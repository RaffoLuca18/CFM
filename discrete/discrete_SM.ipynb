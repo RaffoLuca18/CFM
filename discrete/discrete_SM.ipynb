{
 "cells": [
  {
   "cell_type": "code",
   "execution_count": 1,
   "id": "c13ad511",
   "metadata": {},
   "outputs": [],
   "source": [
    "import sys\n",
    "import os\n",
    "sys.path.append(os.path.abspath('..'))\n",
    "\n",
    "import jax\n",
    "import jax.numpy as jnp\n",
    "import data_gen as dg\n",
    "import optax"
   ]
  },
  {
   "cell_type": "code",
   "execution_count": 2,
   "id": "a7bd179c",
   "metadata": {},
   "outputs": [],
   "source": [
    "def flip_spin(sigma, i):\n",
    "    \n",
    "    return sigma.at[i].set(-sigma[i])"
   ]
  },
  {
   "cell_type": "code",
   "execution_count": 3,
   "id": "b7394655",
   "metadata": {},
   "outputs": [],
   "source": [
    "def hamiltonian(sigma, h, J, beta):\n",
    "\n",
    "    interaction_term = jnp.dot(sigma, J @ sigma)\n",
    "    field_term = jnp.dot(h, sigma)\n",
    "    energy = - field_term - 0.5 * interaction_term\n",
    "    \n",
    "    return beta * energy"
   ]
  },
  {
   "cell_type": "code",
   "execution_count": 4,
   "id": "3e9b576b",
   "metadata": {},
   "outputs": [],
   "source": [
    "def flip_energy_diff(sigma, i, h, J, beta):\n",
    "\n",
    "    sigma_flip = flip_spin(sigma, i)\n",
    "    delta = hamiltonian(sigma_flip, h, J, beta) - hamiltonian(sigma, h, J, beta)\n",
    "    \n",
    "    return delta"
   ]
  },
  {
   "cell_type": "code",
   "execution_count": 5,
   "id": "5c60eae8",
   "metadata": {},
   "outputs": [],
   "source": [
    "def compute_energy_differences_all_sites(sigma, h, J, beta):\n",
    "    \n",
    "    d = sigma.shape[0]\n",
    "    diffs = []\n",
    "\n",
    "    for i in range(d):\n",
    "        delta_e = flip_energy_diff(sigma, i, h, J, beta)\n",
    "        diffs.append(delta_e)\n",
    "\n",
    "    return jnp.array(diffs)"
   ]
  },
  {
   "cell_type": "code",
   "execution_count": 6,
   "id": "0380f1f1",
   "metadata": {},
   "outputs": [],
   "source": [
    "def csm_loss_per_sample(sigma, h, J, beta):\n",
    "\n",
    "    delta_e = compute_energy_differences_all_sites(sigma, h, J, beta)\n",
    "\n",
    "    return jnp.sum(jnp.exp(-2 * delta_e) - jnp.exp(delta_e) + 1) "
   ]
  },
  {
   "cell_type": "code",
   "execution_count": 7,
   "id": "b1cdbee2",
   "metadata": {},
   "outputs": [],
   "source": [
    "def csm_loss(samples, h, J, beta):\n",
    "\n",
    "    return jnp.mean(jax.vmap(csm_loss_per_sample, in_axes=(0, None, None, None))(samples, h, J, beta))"
   ]
  },
  {
   "cell_type": "code",
   "execution_count": null,
   "id": "ca2ff8a6",
   "metadata": {},
   "outputs": [],
   "source": [
    "def csm_gradients(samples, h, J, beta):\n",
    "\n",
    "    grad_loss = jax.grad(csm_loss, argnums=(1, 2))\n",
    "    \n",
    "    return grad_loss(samples, h, J, beta)"
   ]
  },
  {
   "cell_type": "code",
   "execution_count": 9,
   "id": "55e99cf0",
   "metadata": {},
   "outputs": [],
   "source": [
    "def csm_step(params, opt_state, samples, optimizer, beta):\n",
    "    \n",
    "    grad_h, grad_J = csm_gradients(samples, params[\"h\"], params[\"J\"], beta)\n",
    "\n",
    "    grads = {\n",
    "        \"h\": grad_h,\n",
    "        \"J\": grad_J\n",
    "    }\n",
    "\n",
    "    updates, opt_state = optimizer.update(grads, opt_state)\n",
    "    params = optax.apply_updates(params, updates)\n",
    "\n",
    "    J = params[\"J\"]\n",
    "    J = 0.5 * (J + J.T)\n",
    "    J = J - jnp.diag(jnp.diag(J))\n",
    "    params[\"J\"] = J\n",
    "\n",
    "    return params, opt_state"
   ]
  },
  {
   "cell_type": "code",
   "execution_count": null,
   "id": "4cc7151a",
   "metadata": {},
   "outputs": [],
   "source": [
    "def optimize_csm(samples, h_init, J_init, n_steps=1000, lr=1e-2, beta=1.0):\n",
    "    \n",
    "    params = {\n",
    "        \"h\": h_init,\n",
    "        \"J\": J_init\n",
    "    }\n",
    "\n",
    "    optimizer = optax.adam(lr)\n",
    "    opt_state = optimizer.init(params)\n",
    "\n",
    "    for t in range(n_steps):\n",
    "        params, opt_state = csm_step(params, opt_state, samples, optimizer, beta)\n",
    "\n",
    "        if t % 100 == 0:\n",
    "            loss_val = csm_loss(samples, params[\"h\"], params[\"J\"], beta)\n",
    "            print(f\"step {t} | loss = {loss_val:.6f}\")\n",
    "\n",
    "    return params[\"h\"], params[\"J\"]"
   ]
  },
  {
   "cell_type": "code",
   "execution_count": 11,
   "id": "7ee6bee1",
   "metadata": {},
   "outputs": [
    {
     "name": "stdout",
     "output_type": "stream",
     "text": [
      "step 0:[0.13600000739097595, -0.12300000339746475, -0.17000000178813934]\n",
      "[0.843000054359436, -0.7590000629425049, -0.64000004529953]\n",
      "0.13300001621246338\n",
      "\n",
      "step 500:[0.9440000653266907, -0.9040000438690186, -0.6480000019073486]\n",
      "[0.9830000400543213, -0.9410000443458557, -0.6610000133514404]\n",
      "0.0036666791420429945\n",
      "\n"
     ]
    }
   ],
   "source": [
    "d = 3\n",
    "\n",
    "n_samples = 100000\n",
    "\n",
    "h, J = dg.generate_ising_params(d, sigma_h=1, sigma_J=0.5, seed=0)\n",
    "\n",
    "samples = dg.generate_ising_data(n_samples, h=h, J=J, n_steps=1000, beta=1, seed=42)"
   ]
  },
  {
   "cell_type": "code",
   "execution_count": 12,
   "id": "9bd1d828",
   "metadata": {},
   "outputs": [
    {
     "name": "stdout",
     "output_type": "stream",
     "text": [
      "True h: [ 1.0040143 -0.9063372 -0.7481722]\n",
      "True J: [[ 0.         -1.1946154  -0.47133768]\n",
      " [-1.1946154   0.         -0.44069302]\n",
      " [-0.47133768 -0.44069302  0.        ]]\n"
     ]
    }
   ],
   "source": [
    "print(\"True h:\", h)\n",
    "print(\"True J:\", J)"
   ]
  },
  {
   "cell_type": "code",
   "execution_count": 13,
   "id": "24da67fb",
   "metadata": {},
   "outputs": [
    {
     "name": "stdout",
     "output_type": "stream",
     "text": [
      "step 0 | loss = 0.805071\n",
      "step 100 | loss = -51.617310\n",
      "step 200 | loss = -51.623222\n",
      "step 300 | loss = -51.623295\n",
      "step 400 | loss = -51.623318\n",
      "step 500 | loss = -51.623287\n",
      "step 600 | loss = -51.623310\n",
      "step 700 | loss = -51.623295\n",
      "step 800 | loss = -51.623325\n",
      "step 900 | loss = -51.623299\n",
      "Estimated h: [ 0.855 -0.734 -0.432]\n",
      "Estimated J: [[ 0.         -0.9990001  -0.47300002]\n",
      " [-0.9990001   0.         -0.42800003]\n",
      " [-0.47300002 -0.42800003  0.        ]]\n"
     ]
    }
   ],
   "source": [
    "key = jax.random.PRNGKey(0)\n",
    "\n",
    "h0 = 0.1 * jax.random.normal(key, shape=(d,))\n",
    "J0 = 0.1 * jax.random.normal(key, shape=(d, d))\n",
    "J0 = 0.5 * (J0 + J0.T)\n",
    "J0 = J0 - jnp.diag(jnp.diag(J0))\n",
    "\n",
    "h_est, J_est = optimize_csm(samples, h0, J0, n_steps=1000, lr=0.1, beta=1.0)\n",
    "\n",
    "print(\"Estimated h:\", jnp.round(h_est, 3))\n",
    "print(\"Estimated J:\", jnp.round(J_est, 3))"
   ]
  },
  {
   "cell_type": "code",
   "execution_count": null,
   "id": "240d60e4",
   "metadata": {},
   "outputs": [],
   "source": []
  },
  {
   "cell_type": "code",
   "execution_count": null,
   "id": "ae814c88",
   "metadata": {},
   "outputs": [],
   "source": []
  }
 ],
 "metadata": {
  "kernelspec": {
   "display_name": "cfm_env",
   "language": "python",
   "name": "python3"
  },
  "language_info": {
   "codemirror_mode": {
    "name": "ipython",
    "version": 3
   },
   "file_extension": ".py",
   "mimetype": "text/x-python",
   "name": "python",
   "nbconvert_exporter": "python",
   "pygments_lexer": "ipython3",
   "version": "3.13.0"
  }
 },
 "nbformat": 4,
 "nbformat_minor": 5
}

{
 "cells": [
  {
   "cell_type": "code",
   "execution_count": 1,
   "id": "c13ad511",
   "metadata": {},
   "outputs": [],
   "source": [
    "import sys\n",
    "import os\n",
    "sys.path.append(os.path.abspath('..'))\n",
    "\n",
    "import data_gen as dg\n",
    "import ising as isg\n",
    "\n",
    "import jax\n",
    "import jax.numpy as jnp\n",
    "import optax"
   ]
  },
  {
   "cell_type": "code",
   "execution_count": 2,
   "id": "0380f1f1",
   "metadata": {},
   "outputs": [],
   "source": [
    "def csm_loss_per_sample(sigma, h, J, beta):\n",
    "\n",
    "    delta_e = isg.flips_energy_diff(sigma, h, J, beta)\n",
    "\n",
    "    return jnp.sum(jnp.exp(-2 * delta_e) - jnp.exp(delta_e) + 1) "
   ]
  },
  {
   "cell_type": "code",
   "execution_count": 3,
   "id": "b1cdbee2",
   "metadata": {},
   "outputs": [],
   "source": [
    "def csm_loss(samples, h, J, beta):\n",
    "\n",
    "    return jnp.mean(jax.vmap(csm_loss_per_sample, in_axes=(0, None, None, None))(samples, h, J, beta))"
   ]
  },
  {
   "cell_type": "code",
   "execution_count": 4,
   "id": "ca2ff8a6",
   "metadata": {},
   "outputs": [],
   "source": [
    "def csm_gradients(samples, h, J, beta):\n",
    "\n",
    "    grad_loss = jax.grad(csm_loss, argnums=(1, 2))\n",
    "    \n",
    "    return grad_loss(samples, h, J, beta)"
   ]
  },
  {
   "cell_type": "code",
   "execution_count": null,
   "id": "55e99cf0",
   "metadata": {},
   "outputs": [],
   "source": [
    "def csm_step(params, opt_state, samples, optimizer, beta):\n",
    "    \n",
    "    grad_h, grad_J = csm_gradients(samples, params[\"h\"], params[\"J\"], beta)\n",
    "\n",
    "    grads = {\n",
    "        \"h\": grad_h,\n",
    "        \"J\": grad_J\n",
    "    }\n",
    "\n",
    "    updates, opt_state = optimizer.update(grads, opt_state)\n",
    "    params = optax.apply_updates(params, updates)\n",
    "\n",
    "    J = params[\"J\"]\n",
    "    J = 0.5 * (J + J.T)\n",
    "    J = J - jnp.diag(J)\n",
    "    params[\"J\"] = J\n",
    "\n",
    "    return params, opt_state"
   ]
  },
  {
   "cell_type": "code",
   "execution_count": 6,
   "id": "4cc7151a",
   "metadata": {},
   "outputs": [],
   "source": [
    "def optimize_csm(samples, h_init, J_init, n_steps=1000, lr=1e-2, beta=1.0):\n",
    "    \n",
    "    params = {\n",
    "        \"h\": h_init,\n",
    "        \"J\": J_init\n",
    "    }\n",
    "\n",
    "    optimizer = optax.adam(lr)\n",
    "    opt_state = optimizer.init(params)\n",
    "\n",
    "    for t in range(n_steps):\n",
    "        params, opt_state = csm_step(params, opt_state, samples, optimizer, beta)\n",
    "\n",
    "        if t % 100 == 0:\n",
    "            loss_val = csm_loss(samples, params[\"h\"], params[\"J\"], beta)\n",
    "            print(f\"step {t} | loss = {loss_val:.6f}\")\n",
    "\n",
    "    return params[\"h\"], params[\"J\"]"
   ]
  },
  {
   "cell_type": "code",
   "execution_count": 7,
   "id": "7ee6bee1",
   "metadata": {},
   "outputs": [
    {
     "name": "stdout",
     "output_type": "stream",
     "text": [
      "step 0:[-0.10000000149011612, 0.020000001415610313, -0.24000000953674316, -0.2600000202655792, 0.020000001415610313]\n",
      "[0.7350000143051147, -0.503000020980835, -0.5509999990463257, -0.8060000538825989, -0.6200000047683716]\n",
      "0.2369999885559082\n",
      "\n",
      "step 5000:[0.9800000190734863, -0.9800000190734863, -0.9800000190734863, 0.7200000286102295, -0.9800000190734863]\n",
      "[0.9980000257492065, -1.0, -0.9720000624656677, 0.7860000133514404, -0.9980000257492065]\n",
      "0.010799991898238659\n",
      "\n",
      "step 10000:[0.9600000381469727, -0.9600000381469727, -0.8800000548362732, 0.7000000476837158, -0.9600000381469727]\n",
      "[0.9980000257492065, -1.0, -0.9700000286102295, 0.7540000081062317, -0.9980000257492065]\n",
      "0.0151999955996871\n",
      "\n"
     ]
    }
   ],
   "source": [
    "d = 5\n",
    "\n",
    "n_init = 100\n",
    "\n",
    "n_replicas = 500\n",
    "\n",
    "h, J = dg.generate_ising_params(d, sigma_h=1, sigma_J=0.5, seed=0)\n",
    "\n",
    "samples = dg.generate_ising_data(n_init, n_replicas, h=h, J=J, n_steps_equil=10000, n_steps_final=1000, n_prints = 5000, beta=1, seed=12)"
   ]
  },
  {
   "cell_type": "code",
   "execution_count": 8,
   "id": "9bd1d828",
   "metadata": {},
   "outputs": [
    {
     "name": "stdout",
     "output_type": "stream",
     "text": [
      "True h: [ 1.0040143 -0.9063372 -0.7481722 -1.1713669 -0.8712328]\n",
      "True J: [[ 0.         -1.6071162   0.00798594  0.04462025 -0.93398416]\n",
      " [-1.6071162   0.          0.63058895 -1.2504177   0.90409863]\n",
      " [ 0.00798594  0.63058895  0.         -0.40897474  0.47866577]\n",
      " [ 0.04462025 -1.2504177  -0.40897474  0.         -0.5732635 ]\n",
      " [-0.93398416  0.90409863  0.47866577 -0.5732635   0.        ]]\n"
     ]
    }
   ],
   "source": [
    "print(\"True h:\", h)\n",
    "print(\"True J:\", J)"
   ]
  },
  {
   "cell_type": "code",
   "execution_count": 9,
   "id": "24da67fb",
   "metadata": {},
   "outputs": [
    {
     "name": "stdout",
     "output_type": "stream",
     "text": [
      "step 0 | loss = -6.665296\n",
      "step 100 | loss = -10392.400391\n",
      "step 200 | loss = -10403.234375\n",
      "step 300 | loss = -10405.970703\n",
      "step 400 | loss = -10407.096680\n",
      "step 500 | loss = -10407.606445\n",
      "step 600 | loss = -10407.851562\n",
      "step 700 | loss = -10407.982422\n",
      "step 800 | loss = -10408.115234\n",
      "step 900 | loss = -10408.219727\n",
      "Estimated h: [ 1.5040001  -1.1350001  -0.266      -1.014      -0.89000005]\n",
      "Estimated J: [[ 0.         -0.76400006 -0.10700001 -0.072      -0.92600006]\n",
      " [-0.76400006  0.          1.042      -1.2830001   0.77300006]\n",
      " [-0.10700001  1.042       0.         -0.164       0.333     ]\n",
      " [-0.072      -1.2830001  -0.164       0.         -0.55200005]\n",
      " [-0.92600006  0.77300006  0.333      -0.55200005  0.        ]]\n"
     ]
    }
   ],
   "source": [
    "key = jax.random.PRNGKey(0)\n",
    "\n",
    "h0 = 0.1 * jax.random.normal(key, shape=(d,))\n",
    "J0 = 0.1 * jax.random.normal(key, shape=(d, d))\n",
    "J0 = 0.5 * (J0 + J0.T)\n",
    "J0 = J0 - jnp.diag(jnp.diag(J0))\n",
    "\n",
    "h_est, J_est = optimize_csm(samples, h0, J0, n_steps=1000, lr=0.1, beta=1.0)\n",
    "\n",
    "print(\"Estimated h:\", jnp.round(h_est, 3))\n",
    "print(\"Estimated J:\", jnp.round(J_est, 3))"
   ]
  },
  {
   "cell_type": "code",
   "execution_count": null,
   "id": "240d60e4",
   "metadata": {},
   "outputs": [],
   "source": []
  },
  {
   "cell_type": "code",
   "execution_count": null,
   "id": "ae814c88",
   "metadata": {},
   "outputs": [],
   "source": []
  }
 ],
 "metadata": {
  "kernelspec": {
   "display_name": "cfm_env",
   "language": "python",
   "name": "python3"
  },
  "language_info": {
   "codemirror_mode": {
    "name": "ipython",
    "version": 3
   },
   "file_extension": ".py",
   "mimetype": "text/x-python",
   "name": "python",
   "nbconvert_exporter": "python",
   "pygments_lexer": "ipython3",
   "version": "3.13.0"
  }
 },
 "nbformat": 4,
 "nbformat_minor": 5
}

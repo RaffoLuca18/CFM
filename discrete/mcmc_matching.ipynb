{
 "cells": [
  {
   "cell_type": "code",
   "execution_count": 1,
   "id": "0a0791e1",
   "metadata": {},
   "outputs": [],
   "source": [
    "import sys\n",
    "import os\n",
    "sys.path.append(os.path.abspath('..'))\n",
    "\n",
    "import jax\n",
    "import jax.numpy as jnp\n",
    "import data_gen as dg\n",
    "import optax"
   ]
  },
  {
   "cell_type": "code",
   "execution_count": 2,
   "id": "ee44ffe5",
   "metadata": {},
   "outputs": [],
   "source": [
    "def rbf_kernel(x, y, gamma=1.0):\n",
    "\n",
    "    print(\"w\", \"\\n\")\n",
    "    print(jnp.sum(x**2, axis = 1), \"\\n\")\n",
    "    x_norm = jnp.sum(x**2, axis=1).reshape(-1, 1)\n",
    "    y_norm = jnp.sum(y**2, axis=1).reshape(1, -1)\n",
    "    sq_dists = x_norm + y_norm - 2 * x @ y.T\n",
    "\n",
    "    return jnp.exp(-gamma * sq_dists)"
   ]
  },
  {
   "cell_type": "code",
   "execution_count": 3,
   "id": "cdb87da7",
   "metadata": {},
   "outputs": [],
   "source": [
    "def mcmc_loss(samples, h, J, beta, n_steps=10, seed=0, gamma=1.0):\n",
    "\n",
    "    n_samples, d = samples.shape\n",
    "    key = jax.random.PRNGKey(seed)\n",
    "    keys_all = dg.generate_all_keys(seed + 1, n_steps, n_samples)\n",
    "\n",
    "    samples_evolved = samples.copy()\n",
    "    for t in range(n_steps):\n",
    "        samples_evolved = dg.apply_glauber_to_all(keys_all[t], samples_evolved, h, J, beta)\n",
    "\n",
    "    k_xx = rbf_kernel(samples, samples, gamma)\n",
    "    k_yy = rbf_kernel(samples_evolved, samples_evolved, gamma)\n",
    "    k_xy = rbf_kernel(samples, samples_evolved, gamma)\n",
    "\n",
    "    mmd = jnp.mean(k_xx) + jnp.mean(k_yy) - 2 * jnp.mean(k_xy)\n",
    "    \n",
    "    return mmd"
   ]
  },
  {
   "cell_type": "code",
   "execution_count": 4,
   "id": "918cd6ff",
   "metadata": {},
   "outputs": [],
   "source": [
    "def mcmc_gradients(samples, h, J, beta):\n",
    "\n",
    "    grad_loss = jax.grad(mcmc_loss, argnums=(1, 2))\n",
    "    \n",
    "    return grad_loss(samples, h, J, beta)"
   ]
  },
  {
   "cell_type": "code",
   "execution_count": 5,
   "id": "752530e2",
   "metadata": {},
   "outputs": [],
   "source": [
    "def mcmc_step(params, opt_state, samples, optimizer, beta):\n",
    "    \n",
    "    grad_h, grad_J = mcmc_gradients(samples, params[\"h\"], params[\"J\"], beta)\n",
    "\n",
    "    grads = {\n",
    "        \"h\": grad_h,\n",
    "        \"J\": grad_J\n",
    "    }\n",
    "\n",
    "    updates, opt_state = optimizer.update(grads, opt_state)\n",
    "    params = optax.apply_updates(params, updates)\n",
    "\n",
    "    J = params[\"J\"]\n",
    "    J = 0.5 * (J + J.T)\n",
    "    J = J - jnp.diag(jnp.diag(J))\n",
    "    params[\"J\"] = J\n",
    "\n",
    "    return params, opt_state"
   ]
  },
  {
   "cell_type": "code",
   "execution_count": 6,
   "id": "f6588800",
   "metadata": {},
   "outputs": [],
   "source": [
    "def optimize_mcmc(samples, h_init, J_init, n_steps=1000, lr=1e-2, beta=1.0):\n",
    "    \n",
    "    params = {\n",
    "        \"h\": h_init,\n",
    "        \"J\": J_init\n",
    "    }\n",
    "\n",
    "    optimizer = optax.adam(lr)\n",
    "    opt_state = optimizer.init(params)\n",
    "\n",
    "    for t in range(n_steps):\n",
    "        params, opt_state = mcmc_step(params, opt_state, samples, optimizer, beta)\n",
    "\n",
    "        if t % 100 == 0:\n",
    "            loss_val = mcmc_loss(samples, params[\"h\"], params[\"J\"], beta)\n",
    "            print(f\"step {t} | loss = {loss_val:.6f}\")\n",
    "\n",
    "    return params[\"h\"], params[\"J\"]"
   ]
  },
  {
   "cell_type": "code",
   "execution_count": 7,
   "id": "fade06de",
   "metadata": {},
   "outputs": [
    {
     "name": "stdout",
     "output_type": "stream",
     "text": [
      "step 0:[0.13600000739097595, -0.12300000339746475, -0.17000000178813934]\n",
      "[0.843000054359436, -0.7590000629425049, -0.64000004529953]\n",
      "0.13300001621246338\n",
      "\n",
      "step 500:[0.9440000653266907, -0.9040000438690186, -0.6480000019073486]\n",
      "[0.9830000400543213, -0.9410000443458557, -0.6610000133514404]\n",
      "0.0036666791420429945\n",
      "\n"
     ]
    }
   ],
   "source": [
    "d = 3\n",
    "\n",
    "n_samples = 100000\n",
    "\n",
    "h, J = dg.generate_ising_params(d, sigma_h=1, sigma_J=0.5, seed=0)\n",
    "\n",
    "samples = dg.generate_ising_data(n_samples, h=h, J=J, n_steps=1000, beta=1, seed=42)"
   ]
  },
  {
   "cell_type": "code",
   "execution_count": null,
   "id": "d26e0332",
   "metadata": {},
   "outputs": [
    {
     "name": "stdout",
     "output_type": "stream",
     "text": [
      "True h: [ 1.0040143 -0.9063372 -0.7481722]\n",
      "True J: [[ 0.         -1.1946154  -0.47133768]\n",
      " [-1.1946154   0.         -0.44069302]\n",
      " [-0.47133768 -0.44069302  0.        ]]\n"
     ]
    },
    {
     "ename": "",
     "evalue": "",
     "output_type": "error",
     "traceback": [
      "\u001b[1;31mThe Kernel crashed while executing code in the current cell or a previous cell. \n",
      "\u001b[1;31mPlease review the code in the cell(s) to identify a possible cause of the failure. \n",
      "\u001b[1;31mClick <a href='https://aka.ms/vscodeJupyterKernelCrash'>here</a> for more info. \n",
      "\u001b[1;31mView Jupyter <a href='command:jupyter.viewOutput'>log</a> for further details."
     ]
    }
   ],
   "source": [
    "print(\"True h:\", h)\n",
    "print(\"True J:\", J)"
   ]
  },
  {
   "cell_type": "code",
   "execution_count": null,
   "id": "6a048bfc",
   "metadata": {},
   "outputs": [
    {
     "name": "stdout",
     "output_type": "stream",
     "text": [
      "w \n",
      "\n",
      "[3 3 3 ... 3 3 3] \n",
      "\n",
      "w \n",
      "\n"
     ]
    }
   ],
   "source": [
    "key = jax.random.PRNGKey(0)\n",
    "\n",
    "h0 = 0.1 * jax.random.normal(key, shape=(d,))\n",
    "J0 = 0.1 * jax.random.normal(key, shape=(d, d))\n",
    "J0 = 0.5 * (J0 + J0.T)\n",
    "J0 = J0 - jnp.diag(jnp.diag(J0))\n",
    "\n",
    "h_est, J_est = optimize_mcmc(samples, h0, J0, n_steps=1000, lr=0.1, beta=1.0)\n",
    "\n",
    "print(\"estimated h:\", jnp.round(h_est, 3))\n",
    "print(\"estimated J:\", jnp.round(J_est, 3))"
   ]
  }
 ],
 "metadata": {
  "kernelspec": {
   "display_name": "cfm_env",
   "language": "python",
   "name": "python3"
  },
  "language_info": {
   "codemirror_mode": {
    "name": "ipython",
    "version": 3
   },
   "file_extension": ".py",
   "mimetype": "text/x-python",
   "name": "python",
   "nbconvert_exporter": "python",
   "pygments_lexer": "ipython3",
   "version": "3.13.0"
  }
 },
 "nbformat": 4,
 "nbformat_minor": 5
}

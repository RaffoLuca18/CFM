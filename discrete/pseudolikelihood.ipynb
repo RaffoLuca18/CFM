{
 "cells": [
  {
   "cell_type": "code",
   "execution_count": 1,
   "id": "f32e1034",
   "metadata": {},
   "outputs": [],
   "source": [
    "import sys\n",
    "import os\n",
    "sys.path.append(os.path.abspath('..'))\n",
    "\n",
    "import data_gen as dg\n",
    "import ising as isg\n",
    "\n",
    "import jax\n",
    "import jax.numpy as jnp\n",
    "import optax"
   ]
  },
  {
   "cell_type": "code",
   "execution_count": 2,
   "id": "deaf8aca",
   "metadata": {},
   "outputs": [],
   "source": [
    "def log_pseudolikelihood_site(samples, i, h, J, beta=1.0):\n",
    "\n",
    "    M = samples.shape[0]\n",
    "    mus = jnp.arange(M)\n",
    "    logps = isg.compute_logp_all_mu(mus, samples, i, h, J, beta)\n",
    "    \n",
    "    return jnp.mean(logps)"
   ]
  },
  {
   "cell_type": "code",
   "execution_count": 3,
   "id": "78d1803b",
   "metadata": {},
   "outputs": [],
   "source": [
    "def total_log_pseudolikelihood(samples, h, J, beta=1.0):\n",
    "    \n",
    "    d = samples.shape[1]\n",
    "    sites = jnp.arange(d)\n",
    "    site_logps = jax.vmap(log_pseudolikelihood_site, in_axes=(None, 0, None, None, None))(samples, sites, h, J, beta)\n",
    "\n",
    "    return jnp.sum(site_logps)"
   ]
  },
  {
   "cell_type": "code",
   "execution_count": 4,
   "id": "e694964f",
   "metadata": {},
   "outputs": [],
   "source": [
    "def pl_loss(samples, h, J, beta=1.0):\n",
    "    \n",
    "    return -total_log_pseudolikelihood(samples, h, J, beta)"
   ]
  },
  {
   "cell_type": "code",
   "execution_count": 5,
   "id": "a9b23a0b",
   "metadata": {},
   "outputs": [],
   "source": [
    "def pl_gradients(samples, h, J, beta):\n",
    "\n",
    "    grad_loss = jax.grad(pl_loss, argnums=(1, 2))\n",
    "\n",
    "    return grad_loss(samples, h, J, beta)"
   ]
  },
  {
   "cell_type": "code",
   "execution_count": 6,
   "id": "672f6b40",
   "metadata": {},
   "outputs": [],
   "source": [
    "def pl_step(params, opt_state, samples, optimizer, beta):\n",
    "    \n",
    "    grad_h, grad_J = pl_gradients(samples, params[\"h\"], params[\"J\"], beta)\n",
    "\n",
    "    grads = {\n",
    "        \"h\": grad_h,\n",
    "        \"J\": grad_J\n",
    "    }\n",
    "\n",
    "    updates, opt_state = optimizer.update(grads, opt_state)\n",
    "    params = optax.apply_updates(params, updates)\n",
    "\n",
    "    J = params[\"J\"]\n",
    "    J = 0.5 * (J + J.T)\n",
    "    J = J - jnp.diag(J)\n",
    "    params[\"J\"] = J\n",
    "\n",
    "    return params, opt_state"
   ]
  },
  {
   "cell_type": "code",
   "execution_count": 7,
   "id": "090d6686",
   "metadata": {},
   "outputs": [],
   "source": [
    "def optimize_pl(samples, h_init, J_init, n_steps=1000, lr=1e-2, beta=1.0):\n",
    "    \n",
    "    params = {\n",
    "        \"h\": h_init,\n",
    "        \"J\": J_init\n",
    "    }\n",
    "\n",
    "    optimizer = optax.adam(lr)\n",
    "    opt_state = optimizer.init(params)\n",
    "\n",
    "    for t in range(n_steps):\n",
    "        params, opt_state = pl_step(params, opt_state, samples, optimizer, beta)\n",
    "\n",
    "        if t % 100 == 0:\n",
    "            loss_val = pl_loss(samples, params[\"h\"], params[\"J\"], beta)\n",
    "            print(f\"step {t} | loss = {loss_val:.6f}\")\n",
    "\n",
    "    return params[\"h\"], params[\"J\"]"
   ]
  },
  {
   "cell_type": "code",
   "execution_count": 8,
   "id": "d2d0c2c8",
   "metadata": {},
   "outputs": [
    {
     "name": "stdout",
     "output_type": "stream",
     "text": [
      "step 0:[-0.10000000149011612, 0.020000001415610313, -0.24000000953674316, -0.2600000202655792, 0.020000001415610313]\n",
      "[0.7350000143051147, -0.503000020980835, -0.5509999990463257, -0.8060000538825989, -0.6200000047683716]\n",
      "0.2369999885559082\n",
      "\n",
      "step 5000:[0.9800000190734863, -0.9800000190734863, -0.9800000190734863, 0.7200000286102295, -0.9800000190734863]\n",
      "[0.9980000257492065, -1.0, -0.9720000624656677, 0.7860000133514404, -0.9980000257492065]\n",
      "0.010799991898238659\n",
      "\n",
      "step 10000:[0.9600000381469727, -0.9600000381469727, -0.8800000548362732, 0.7000000476837158, -0.9600000381469727]\n",
      "[0.9980000257492065, -1.0, -0.9700000286102295, 0.7540000081062317, -0.9980000257492065]\n",
      "0.0151999955996871\n",
      "\n"
     ]
    }
   ],
   "source": [
    "d = 5\n",
    "\n",
    "n_init = 100\n",
    "\n",
    "n_replicas = 500\n",
    "\n",
    "h, J = dg.generate_ising_params(d, sigma_h=1, sigma_J=0.5, seed=0)\n",
    "\n",
    "samples = dg.generate_ising_data(n_init, n_replicas, h=h, J=J, n_steps_equil=10000, n_steps_final=1000, n_prints = 5000, beta=1, seed=12)"
   ]
  },
  {
   "cell_type": "code",
   "execution_count": 9,
   "id": "76442a72",
   "metadata": {},
   "outputs": [
    {
     "name": "stdout",
     "output_type": "stream",
     "text": [
      "True h: [ 1.0040143 -0.9063372 -0.7481722 -1.1713669 -0.8712328]\n",
      "True J: [[ 0.         -1.6071162   0.00798594  0.04462025 -0.93398416]\n",
      " [-1.6071162   0.          0.63058895 -1.2504177   0.90409863]\n",
      " [ 0.00798594  0.63058895  0.         -0.40897474  0.47866577]\n",
      " [ 0.04462025 -1.2504177  -0.40897474  0.         -0.5732635 ]\n",
      " [-0.93398416  0.90409863  0.47866577 -0.5732635   0.        ]]\n"
     ]
    }
   ],
   "source": [
    "print(\"True h:\", h)\n",
    "print(\"True J:\", J)"
   ]
  },
  {
   "cell_type": "code",
   "execution_count": 10,
   "id": "6b02a19a",
   "metadata": {},
   "outputs": [
    {
     "name": "stdout",
     "output_type": "stream",
     "text": [
      "step 0 | loss = 1.983862\n",
      "step 100 | loss = 0.435885\n",
      "step 200 | loss = 0.431507\n",
      "step 300 | loss = 0.428691\n",
      "step 400 | loss = 0.427673\n",
      "step 500 | loss = 0.429248\n",
      "step 600 | loss = 0.429540\n",
      "step 700 | loss = 0.427864\n",
      "step 800 | loss = 0.428851\n",
      "step 900 | loss = 0.427160\n",
      "estimated h: [ 0.83900005 -1.0710001  -0.90500003 -1.4670001  -1.136     ]\n",
      "estimated J: [[ 0.         -1.9660001  -0.675      -0.94000006 -1.09      ]\n",
      " [-1.9660001   0.          0.23       -2.0640001   0.83500004]\n",
      " [-0.679       0.22600001  0.         -0.54200006  0.052     ]\n",
      " [-0.89800006 -2.023      -0.49600002  0.         -0.96000004]\n",
      " [-1.093       0.832       0.053      -1.005       0.        ]]\n"
     ]
    }
   ],
   "source": [
    "key = jax.random.PRNGKey(0)\n",
    "\n",
    "h0 = 0.1 * jax.random.normal(key, shape=(d,))\n",
    "J0 = 0.1 * jax.random.normal(key, shape=(d, d))\n",
    "J0 = 0.5 * (J0 + J0.T)\n",
    "J0 = J0 - jnp.diag(jnp.diag(J0))\n",
    "\n",
    "h_est, J_est = optimize_pl(samples, h0, J0, n_steps=1000, lr=0.1, beta=1.0)\n",
    "\n",
    "print(\"estimated h:\", jnp.round(h_est, 3))\n",
    "print(\"estimated J:\", jnp.round(J_est, 3))"
   ]
  }
 ],
 "metadata": {
  "kernelspec": {
   "display_name": "cfm_env",
   "language": "python",
   "name": "python3"
  },
  "language_info": {
   "codemirror_mode": {
    "name": "ipython",
    "version": 3
   },
   "file_extension": ".py",
   "mimetype": "text/x-python",
   "name": "python",
   "nbconvert_exporter": "python",
   "pygments_lexer": "ipython3",
   "version": "3.13.0"
  }
 },
 "nbformat": 4,
 "nbformat_minor": 5
}

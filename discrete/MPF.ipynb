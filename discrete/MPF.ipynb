{
 "cells": [
  {
   "cell_type": "code",
   "execution_count": 2,
   "id": "3cc459fe",
   "metadata": {},
   "outputs": [],
   "source": [
    "import sys\n",
    "import os\n",
    "sys.path.append(os.path.abspath('..'))\n",
    "\n",
    "import data_gen as dg\n",
    "import ising as isg\n",
    "\n",
    "import jax\n",
    "import jax.numpy as jnp\n",
    "import optax"
   ]
  },
  {
   "cell_type": "code",
   "execution_count": 3,
   "id": "6ecaa7ec",
   "metadata": {},
   "outputs": [],
   "source": [
    "def mpf_loss_per_sample(sigma, h, J, beta):\n",
    "\n",
    "    delta_e = isg.flips_energy_diff(sigma, h, J, beta)\n",
    "    \n",
    "    return jnp.sum(jnp.exp(-0.5 * delta_e))"
   ]
  },
  {
   "cell_type": "code",
   "execution_count": 4,
   "id": "1472f93c",
   "metadata": {},
   "outputs": [],
   "source": [
    "def mpf_loss(samples, h, J, beta):\n",
    "\n",
    "    return jnp.mean(jax.vmap(mpf_loss_per_sample, in_axes=(0, None, None, None))(samples, h, J, beta))"
   ]
  },
  {
   "cell_type": "code",
   "execution_count": 5,
   "id": "487524b7",
   "metadata": {},
   "outputs": [],
   "source": [
    "def mpf_gradients(samples, h, J, beta):\n",
    "\n",
    "    grad_loss = jax.grad(mpf_loss, argnums=(1, 2))\n",
    "    \n",
    "    return grad_loss(samples, h, J, beta)"
   ]
  },
  {
   "cell_type": "code",
   "execution_count": 6,
   "id": "637b73be",
   "metadata": {},
   "outputs": [],
   "source": [
    "def mpf_step(params, opt_state, samples, optimizer, beta):\n",
    "    \n",
    "    grad_h, grad_J = mpf_gradients(samples, params[\"h\"], params[\"J\"], beta)\n",
    "\n",
    "    grads = {\n",
    "        \"h\": grad_h,\n",
    "        \"J\": grad_J\n",
    "    }\n",
    "\n",
    "    updates, opt_state = optimizer.update(grads, opt_state)\n",
    "    params = optax.apply_updates(params, updates)\n",
    "\n",
    "    J = params[\"J\"]\n",
    "    J = 0.5 * (J + J.T)\n",
    "    J = J - jnp.diag(jnp.diag(J))\n",
    "    params[\"J\"] = J\n",
    "\n",
    "    return params, opt_state"
   ]
  },
  {
   "cell_type": "code",
   "execution_count": 7,
   "id": "946fd84c",
   "metadata": {},
   "outputs": [],
   "source": [
    "def optimize_mpf(samples, h_init, J_init, n_steps=1000, lr=1e-2, beta=1.0):\n",
    "    \n",
    "    params = {\n",
    "        \"h\": h_init,\n",
    "        \"J\": J_init\n",
    "    }\n",
    "\n",
    "    optimizer = optax.adam(lr)\n",
    "    opt_state = optimizer.init(params)\n",
    "\n",
    "    for t in range(n_steps):\n",
    "        params, opt_state = mpf_step(params, opt_state, samples, optimizer, beta)\n",
    "\n",
    "        if t % 100 == 0:\n",
    "            loss_val = mpf_loss(samples, params[\"h\"], params[\"J\"], beta)\n",
    "            print(f\"step {t} | loss = {loss_val:.6f}\")\n",
    "\n",
    "    return params[\"h\"], params[\"J\"]"
   ]
  },
  {
   "cell_type": "code",
   "execution_count": null,
   "id": "61f79840",
   "metadata": {},
   "outputs": [
    {
     "name": "stdout",
     "output_type": "stream",
     "text": [
      "step 0:[0.13600000739097595, -0.12300000339746475, -0.17000000178813934]\n",
      "[0.843000054359436, -0.7590000629425049, -0.64000004529953]\n",
      "0.13300001621246338\n",
      "\n",
      "step 500:[0.9440000653266907, -0.9040000438690186, -0.6480000019073486]\n",
      "[0.9830000400543213, -0.9410000443458557, -0.6610000133514404]\n",
      "0.0036666791420429945\n",
      "\n"
     ]
    }
   ],
   "source": [
    "d = 3\n",
    "\n",
    "n_samples = 100000\n",
    "\n",
    "h, J = dg.generate_ising_params(d, sigma_h=1, sigma_J=0.5, seed=0)\n",
    "\n",
    "samples = dg.generate_ising_data(n_samples, h=h, J=J, n_steps=1000, beta=1, seed=42)"
   ]
  },
  {
   "cell_type": "code",
   "execution_count": 9,
   "id": "3e40c2af",
   "metadata": {},
   "outputs": [
    {
     "name": "stdout",
     "output_type": "stream",
     "text": [
      "True h: [ 1.0040143 -0.9063372 -0.7481722]\n",
      "True J: [[ 0.         -1.1946154  -0.47133768]\n",
      " [-1.1946154   0.         -0.44069302]\n",
      " [-0.47133768 -0.44069302  0.        ]]\n"
     ]
    }
   ],
   "source": [
    "print(\"True h:\", h)\n",
    "print(\"True J:\", J)"
   ]
  },
  {
   "cell_type": "code",
   "execution_count": 10,
   "id": "ccb48ddb",
   "metadata": {},
   "outputs": [
    {
     "name": "stdout",
     "output_type": "stream",
     "text": [
      "step 0 | loss = 2.599569\n",
      "step 100 | loss = 1.311869\n",
      "step 200 | loss = 1.311852\n",
      "step 300 | loss = 1.311852\n",
      "step 400 | loss = 1.311852\n",
      "step 500 | loss = 1.311852\n",
      "step 600 | loss = 1.311852\n",
      "step 700 | loss = 1.311852\n",
      "step 800 | loss = 1.311852\n",
      "step 900 | loss = 1.311852\n",
      "estimated h: [ 1.005      -0.892      -0.74300003]\n",
      "estimated J: [[ 0.         -1.1910001  -0.47400004]\n",
      " [-1.1910001   0.         -0.43600002]\n",
      " [-0.47400004 -0.43600002  0.        ]]\n"
     ]
    }
   ],
   "source": [
    "key = jax.random.PRNGKey(0)\n",
    "\n",
    "h0 = 0.1 * jax.random.normal(key, shape=(d,))\n",
    "J0 = 0.1 * jax.random.normal(key, shape=(d, d))\n",
    "J0 = 0.5 * (J0 + J0.T)\n",
    "J0 = J0 - jnp.diag(jnp.diag(J0))\n",
    "\n",
    "h_est, J_est = optimize_mpf(samples, h0, J0, n_steps=1000, lr=0.1, beta=1.0)\n",
    "\n",
    "print(\"estimated h:\", jnp.round(h_est, 3))\n",
    "print(\"estimated J:\", jnp.round(J_est, 3))"
   ]
  }
 ],
 "metadata": {
  "kernelspec": {
   "display_name": "cfm_env",
   "language": "python",
   "name": "python3"
  },
  "language_info": {
   "codemirror_mode": {
    "name": "ipython",
    "version": 3
   },
   "file_extension": ".py",
   "mimetype": "text/x-python",
   "name": "python",
   "nbconvert_exporter": "python",
   "pygments_lexer": "ipython3",
   "version": "3.13.0"
  }
 },
 "nbformat": 4,
 "nbformat_minor": 5
}

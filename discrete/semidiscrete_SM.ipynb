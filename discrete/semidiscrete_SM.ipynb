{
 "cells": [
  {
   "cell_type": "code",
   "execution_count": 110,
   "id": "6a38f937",
   "metadata": {},
   "outputs": [],
   "source": [
    "import sys\n",
    "import os\n",
    "sys.path.append(os.path.abspath('..'))\n",
    "\n",
    "import data_gen as dg\n",
    "import ising as isg\n",
    "\n",
    "import jax\n",
    "import jax.numpy as jnp\n",
    "import optax"
   ]
  },
  {
   "cell_type": "code",
   "execution_count": 111,
   "id": "a36d7ad8",
   "metadata": {},
   "outputs": [],
   "source": [
    "def score_matching_loss_boltzmann(params, samples):\n",
    "\n",
    "    h = params[\"h\"]\n",
    "    J = params[\"J\"]\n",
    "\n",
    "    linear_terms = samples @ J.T + h\n",
    "    squared_norms = jnp.sum(linear_terms ** 2, axis=1)\n",
    "\n",
    "    loss = 0.5 * jnp.mean(squared_norms) + jnp.trace(J)\n",
    "\n",
    "    return loss\n"
   ]
  },
  {
   "cell_type": "code",
   "execution_count": 112,
   "id": "4fa3f1a4",
   "metadata": {},
   "outputs": [],
   "source": [
    "def compute_loss_and_grad(params, samples):\n",
    "\n",
    "    loss_val, grads = jax.value_and_grad(score_matching_loss_boltzmann)(params, samples)\n",
    "    \n",
    "    return loss_val, grads"
   ]
  },
  {
   "cell_type": "code",
   "execution_count": 113,
   "id": "fb898021",
   "metadata": {},
   "outputs": [],
   "source": [
    "def opt_step(params, opt_state, samples, optimizer):\n",
    "\n",
    "    loss_val, grads = compute_loss_and_grad(params, samples)\n",
    "    updates, opt_state = optimizer.update(grads, opt_state)\n",
    "    params = optax.apply_updates(params, updates)\n",
    "    params[\"J\"] = (params[\"J\"].T + params[\"J\"])/2\n",
    "\n",
    "    return params, opt_state, loss_val"
   ]
  },
  {
   "cell_type": "code",
   "execution_count": 114,
   "id": "14ee3a6c",
   "metadata": {},
   "outputs": [],
   "source": [
    "def optimize_score_matching(samples, h_init, J_init, lr=1e-2, n_steps=1000):\n",
    "\n",
    "    params = {\"h\": h_init, \"J\": J_init}\n",
    "    optimizer = optax.adam(lr)\n",
    "    opt_state = optimizer.init(params)\n",
    "\n",
    "    for step in range(n_steps):\n",
    "        params, opt_state, loss_val = opt_step(params, opt_state, samples, optimizer)\n",
    "        if step % 100 == 0:\n",
    "            print(f\"Step {step} | Loss: {loss_val:.6f}\")\n",
    "\n",
    "    return params[\"h\"], params[\"J\"]"
   ]
  },
  {
   "cell_type": "code",
   "execution_count": 115,
   "id": "4c7747cb",
   "metadata": {},
   "outputs": [
    {
     "name": "stdout",
     "output_type": "stream",
     "text": [
      "step 0:[0.10600000619888306, -0.13600000739097595, -0.20600001513957977]\n",
      "[0.8520000576972961, -0.7360000610351562, -0.628000020980835]\n",
      "0.09199999272823334\n",
      "\n",
      "step 500:[0.9580000638961792, -0.906000018119812, -0.6320000290870667]\n",
      "[0.9830000400543213, -0.9440000653266907, -0.6640000343322754]\n",
      "0.015000025741755962\n",
      "\n"
     ]
    }
   ],
   "source": [
    "d = 3\n",
    "n_samples = 1000\n",
    "\n",
    "h_true, J_true = dg.generate_ising_params(d, sigma_h=1, sigma_J=0.5, seed=0)\n",
    "samples = dg.generate_ising_data(n_samples, h=h_true, J=J_true, n_steps=1000, beta=1, seed=42)"
   ]
  },
  {
   "cell_type": "code",
   "execution_count": 116,
   "id": "30a5c43d",
   "metadata": {},
   "outputs": [
    {
     "name": "stdout",
     "output_type": "stream",
     "text": [
      "Step 0 | Loss: 11.070559\n",
      "Step 100 | Loss: 2.576656\n",
      "Step 200 | Loss: 0.455281\n",
      "Step 300 | Loss: -1.002035\n",
      "Step 400 | Loss: -2.298135\n",
      "Step 500 | Loss: -3.478536\n",
      "Step 600 | Loss: -4.549845\n",
      "Step 700 | Loss: -5.512217\n",
      "Step 800 | Loss: -6.369025\n",
      "Step 900 | Loss: -7.127464\n"
     ]
    }
   ],
   "source": [
    "key = jax.random.PRNGKey(0)\n",
    "h_init = jax.random.normal(key, shape=(d,))\n",
    "J_init = jax.random.normal(key, shape=(d, d))\n",
    "J_init = 0.5 * (J_init + J_init.T)\n",
    "\n",
    "h_opt, J_opt = optimize_score_matching(samples, h_init, J_init, 1e-2, 1000)"
   ]
  },
  {
   "cell_type": "code",
   "execution_count": 117,
   "id": "e5acfba1",
   "metadata": {},
   "outputs": [
    {
     "name": "stdout",
     "output_type": "stream",
     "text": [
      "[ 2.0818355 -2.0969296 -0.970043 ] \n",
      "\n",
      " [ 1.0040143 -0.9063372 -0.7481722] \n",
      "\n",
      "\n",
      "\n",
      "[[-4.523883   -2.138714   -0.25920716]\n",
      " [-2.138714   -4.601226   -0.17933486]\n",
      " [-0.25920716 -0.17933486 -1.6713101 ]] \n",
      "\n",
      " [[ 0.         -1.1946154  -0.47133768]\n",
      " [-1.1946154   0.         -0.44069302]\n",
      " [-0.47133768 -0.44069302  0.        ]] \n",
      "\n",
      "\n",
      "\n"
     ]
    }
   ],
   "source": [
    "print(h_opt, \"\\n\\n\", h_true, \"\\n\\n\\n\")\n",
    "print(J_opt, \"\\n\\n\", J_true, \"\\n\\n\\n\")"
   ]
  },
  {
   "cell_type": "code",
   "execution_count": null,
   "id": "32a82d60",
   "metadata": {},
   "outputs": [],
   "source": []
  }
 ],
 "metadata": {
  "kernelspec": {
   "display_name": "cfm_env",
   "language": "python",
   "name": "python3"
  },
  "language_info": {
   "codemirror_mode": {
    "name": "ipython",
    "version": 3
   },
   "file_extension": ".py",
   "mimetype": "text/x-python",
   "name": "python",
   "nbconvert_exporter": "python",
   "pygments_lexer": "ipython3",
   "version": "3.13.0"
  }
 },
 "nbformat": 4,
 "nbformat_minor": 5
}

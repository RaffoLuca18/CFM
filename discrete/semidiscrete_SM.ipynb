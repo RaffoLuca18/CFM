{
 "cells": [
  {
   "cell_type": "code",
   "execution_count": 22,
   "id": "6a38f937",
   "metadata": {},
   "outputs": [],
   "source": [
    "import sys\n",
    "import os\n",
    "sys.path.append(os.path.abspath('..'))\n",
    "\n",
    "import data_gen as dg\n",
    "import ising as isg\n",
    "\n",
    "import jax\n",
    "import jax.numpy as jnp\n",
    "import optax"
   ]
  },
  {
   "cell_type": "code",
   "execution_count": null,
   "id": "a36d7ad8",
   "metadata": {},
   "outputs": [],
   "source": [
    "def score_matching_loss_boltzmann(params, samples):\n",
    "\n",
    "    h = params[\"h\"]\n",
    "    J = params[\"J\"]\n",
    "\n",
    "    linear_terms = samples @ J.T + h\n",
    "    squared_norms = jnp.sum(linear_terms ** 2, axis=1)\n",
    "\n",
    "    loss = 0.5 * jnp.mean(squared_norms)\n",
    "    # loss += jnp.trace(J)\n",
    "\n",
    "    return loss"
   ]
  },
  {
   "cell_type": "code",
   "execution_count": 24,
   "id": "4fa3f1a4",
   "metadata": {},
   "outputs": [],
   "source": [
    "def compute_loss_and_grad(params, samples):\n",
    "\n",
    "    loss_val, grads = jax.value_and_grad(score_matching_loss_boltzmann)(params, samples)\n",
    "    \n",
    "    return loss_val, grads"
   ]
  },
  {
   "cell_type": "code",
   "execution_count": 30,
   "id": "fb898021",
   "metadata": {},
   "outputs": [],
   "source": [
    "def opt_step(params, opt_state, samples, optimizer):\n",
    "\n",
    "    loss_val, grads = compute_loss_and_grad(params, samples)\n",
    "    updates, opt_state = optimizer.update(grads, opt_state)\n",
    "    params = optax.apply_updates(params, updates)\n",
    "    params[\"J\"] = (params[\"J\"].T + params[\"J\"])/2\n",
    "    params[\"J\"] = params[\"J\"] - jnp.diag(params[\"J\"])\n",
    "\n",
    "    return params, opt_state, loss_val"
   ]
  },
  {
   "cell_type": "code",
   "execution_count": 31,
   "id": "14ee3a6c",
   "metadata": {},
   "outputs": [],
   "source": [
    "def optimize_score_matching(samples, h_init, J_init, lr=1e-2, n_steps=1000):\n",
    "\n",
    "    params = {\"h\": h_init, \"J\": J_init}\n",
    "    optimizer = optax.adam(lr)\n",
    "    opt_state = optimizer.init(params)\n",
    "\n",
    "    for step in range(n_steps):\n",
    "        params, opt_state, loss_val = opt_step(params, opt_state, samples, optimizer)\n",
    "        if step % 100 == 0:\n",
    "            print(f\"step {step} | loss: {loss_val:.6f}\")\n",
    "\n",
    "    return params[\"h\"], params[\"J\"]"
   ]
  },
  {
   "cell_type": "code",
   "execution_count": 32,
   "id": "4c7747cb",
   "metadata": {},
   "outputs": [
    {
     "name": "stdout",
     "output_type": "stream",
     "text": [
      "step 0:[-0.10000000149011612, 0.020000001415610313, -0.24000000953674316, -0.2600000202655792, 0.020000001415610313]\n",
      "[0.7350000143051147, -0.503000020980835, -0.5509999990463257, -0.8060000538825989, -0.6200000047683716]\n",
      "0.2369999885559082\n",
      "\n",
      "step 5000:[0.9800000190734863, -0.9800000190734863, -0.9800000190734863, 0.7200000286102295, -0.9800000190734863]\n",
      "[0.9980000257492065, -1.0, -0.9720000624656677, 0.7860000133514404, -0.9980000257492065]\n",
      "0.010799991898238659\n",
      "\n",
      "step 10000:[0.9600000381469727, -0.9600000381469727, -0.8800000548362732, 0.7000000476837158, -0.9600000381469727]\n",
      "[0.9980000257492065, -1.0, -0.9700000286102295, 0.7540000081062317, -0.9980000257492065]\n",
      "0.0151999955996871\n",
      "\n"
     ]
    }
   ],
   "source": [
    "d = 5\n",
    "\n",
    "n_init = 100\n",
    "\n",
    "n_replicas = 500\n",
    "\n",
    "h, J = dg.generate_ising_params(d, sigma_h=1, sigma_J=0.5, seed=0)\n",
    "\n",
    "samples = dg.generate_ising_data(n_init, n_replicas, h=h, J=J, n_steps_equil=10000, n_steps_final=5000, n_prints = 5000, beta=1, seed=12)"
   ]
  },
  {
   "cell_type": "code",
   "execution_count": 28,
   "id": "30a5c43d",
   "metadata": {},
   "outputs": [
    {
     "name": "stdout",
     "output_type": "stream",
     "text": [
      "Step 0 | Loss: 17.960045\n",
      "Step 100 | Loss: -0.058899\n",
      "Step 200 | Loss: -3.561385\n",
      "Step 300 | Loss: -6.304195\n",
      "Step 400 | Loss: -9.011396\n",
      "Step 500 | Loss: -11.723924\n",
      "Step 600 | Loss: -14.452819\n",
      "Step 700 | Loss: -17.190744\n",
      "Step 800 | Loss: -19.926098\n",
      "Step 900 | Loss: -22.649315\n",
      "Step 1000 | Loss: -25.354252\n",
      "Step 1100 | Loss: -28.037573\n",
      "Step 1200 | Loss: -30.697935\n",
      "Step 1300 | Loss: -33.335300\n",
      "Step 1400 | Loss: -35.950424\n",
      "Step 1500 | Loss: -38.544601\n",
      "Step 1600 | Loss: -41.119400\n",
      "Step 1700 | Loss: -43.676487\n",
      "Step 1800 | Loss: -46.217571\n",
      "Step 1900 | Loss: -48.744244\n",
      "Step 2000 | Loss: -51.257908\n",
      "Step 2100 | Loss: -53.759758\n",
      "Step 2200 | Loss: -56.250732\n",
      "Step 2300 | Loss: -58.731461\n",
      "Step 2400 | Loss: -61.202347\n",
      "Step 2500 | Loss: -63.663517\n",
      "Step 2600 | Loss: -66.114868\n",
      "Step 2700 | Loss: -68.556381\n",
      "Step 2800 | Loss: -70.987350\n",
      "Step 2900 | Loss: -73.407257\n"
     ]
    }
   ],
   "source": [
    "key = jax.random.PRNGKey(0)\n",
    "h_init = jax.random.normal(key, shape=(d,))\n",
    "J_init = jax.random.normal(key, shape=(d, d))\n",
    "J_init = 0.5 * (J_init + J_init.T)\n",
    "\n",
    "h_opt, J_opt = optimize_score_matching(samples, h_init, J_init, 1e-2, 3000)"
   ]
  },
  {
   "cell_type": "code",
   "execution_count": 29,
   "id": "e5acfba1",
   "metadata": {},
   "outputs": [
    {
     "name": "stdout",
     "output_type": "stream",
     "text": [
      "[ 2.4387586 -1.9842377 -3.249127  -0.4370167 -2.3038075] \n",
      "\n",
      " [ 1.0040143 -0.9063372 -0.7481722 -1.1713669 -0.8712328] \n",
      "\n",
      "\n",
      "\n",
      "[[-2.2221886e+01 -8.1820107e+00 -2.6123929e+00  1.5795812e-02\n",
      "  -8.9816332e+00]\n",
      " [-8.1820107e+00 -2.6416790e+01  4.8081450e+00 -1.1404092e+00\n",
      "   1.0640941e+01]\n",
      " [-2.6123929e+00  4.8081450e+00 -1.4792762e+01 -7.0579946e-01\n",
      "   3.1199098e+00]\n",
      " [ 1.5795812e-02 -1.1404092e+00 -7.0579946e-01 -2.7112818e+00\n",
      "  -7.3596281e-01]\n",
      " [-8.9816332e+00  1.0640941e+01  3.1199098e+00 -7.3596281e-01\n",
      "  -2.5624599e+01]] \n",
      "\n",
      " [[ 0.         -1.6071162   0.00798594  0.04462025 -0.93398416]\n",
      " [-1.6071162   0.          0.63058895 -1.2504177   0.90409863]\n",
      " [ 0.00798594  0.63058895  0.         -0.40897474  0.47866577]\n",
      " [ 0.04462025 -1.2504177  -0.40897474  0.         -0.5732635 ]\n",
      " [-0.93398416  0.90409863  0.47866577 -0.5732635   0.        ]] \n",
      "\n",
      "\n",
      "\n"
     ]
    }
   ],
   "source": [
    "print(h_opt, \"\\n\\n\", h, \"\\n\\n\\n\")\n",
    "print(J_opt, \"\\n\\n\", J, \"\\n\\n\\n\")"
   ]
  },
  {
   "cell_type": "code",
   "execution_count": null,
   "id": "32a82d60",
   "metadata": {},
   "outputs": [],
   "source": []
  }
 ],
 "metadata": {
  "kernelspec": {
   "display_name": "cfm_env",
   "language": "python",
   "name": "python3"
  },
  "language_info": {
   "codemirror_mode": {
    "name": "ipython",
    "version": 3
   },
   "file_extension": ".py",
   "mimetype": "text/x-python",
   "name": "python",
   "nbconvert_exporter": "python",
   "pygments_lexer": "ipython3",
   "version": "3.13.0"
  }
 },
 "nbformat": 4,
 "nbformat_minor": 5
}

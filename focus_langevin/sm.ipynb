{
 "cells": [
  {
   "cell_type": "code",
   "execution_count": 141,
   "id": "d9dee87c",
   "metadata": {},
   "outputs": [],
   "source": [
    "import sys\n",
    "import os\n",
    "sys.path.append(os.path.abspath('..'))\n",
    "\n",
    "import data_gen as dg\n",
    "import ising as isg\n",
    "\n",
    "import jax\n",
    "import jax.numpy as jnp\n",
    "import optax"
   ]
  },
  {
   "cell_type": "code",
   "execution_count": 142,
   "id": "a810f937",
   "metadata": {},
   "outputs": [],
   "source": [
    "def sm_loss(params, samples):\n",
    "\n",
    "    mu = params[\"mu\"]\n",
    "    L = params[\"L\"]\n",
    "    Lambda = L @ L.T\n",
    "\n",
    "    centered = samples - mu\n",
    "    Lambda2 = Lambda @ Lambda\n",
    "    quad_terms = jnp.sum((centered @ Lambda2) * centered, axis=1)\n",
    "\n",
    "    loss = 0.5 * jnp.mean(quad_terms) - jnp.trace(Lambda)\n",
    "    \n",
    "    return loss"
   ]
  },
  {
   "cell_type": "code",
   "execution_count": 143,
   "id": "7bbf9ccb",
   "metadata": {},
   "outputs": [],
   "source": [
    "def optimize_score_matching(samples, n_steps=1000, lr=1e-2, seed=0):\n",
    "\n",
    "    d = samples.shape[1]\n",
    "    key = jax.random.PRNGKey(seed)\n",
    "    key_mu, key_L = jax.random.split(key)\n",
    "\n",
    "    mu_init = jax.random.normal(key_mu, shape=(d,))\n",
    "    L_init = jnp.eye(d) + 0.01 * jax.random.normal(key_L, shape=(d, d))\n",
    "\n",
    "    L_init = jnp.tril(L_init)\n",
    "\n",
    "    params = {\"mu\": mu_init, \"L\": L_init}\n",
    "    optimizer = optax.adam(lr)\n",
    "    opt_state = optimizer.init(params)\n",
    "\n",
    "    loss_grad_fn = jax.value_and_grad(sm_loss)\n",
    "\n",
    "    for step in range(n_steps):\n",
    "        loss_val, grads = loss_grad_fn(params, samples)\n",
    "        updates, opt_state = optimizer.update(grads, opt_state)\n",
    "        params = optax.apply_updates(params, updates)\n",
    "\n",
    "        params[\"L\"] = jnp.tril(params[\"L\"])\n",
    "\n",
    "        if step % 20 == 0:\n",
    "            print(f\"Step {step:4d} | Loss: {loss_val:.6f}\")\n",
    "\n",
    "    return params"
   ]
  },
  {
   "cell_type": "code",
   "execution_count": 144,
   "id": "9771503f",
   "metadata": {},
   "outputs": [
    {
     "name": "stdout",
     "output_type": "stream",
     "text": [
      "Step    0 | Loss: -2.458913\n",
      "Step   20 | Loss: -4.712379\n",
      "Step   40 | Loss: -6.239665\n",
      "Step   60 | Loss: -7.747056\n",
      "Step   80 | Loss: -9.349491\n",
      "Step  100 | Loss: -11.127122\n",
      "Step  120 | Loss: -13.563088\n",
      "Step  140 | Loss: -17.102310\n",
      "Step  160 | Loss: -20.661938\n",
      "Step  180 | Loss: -23.261869\n",
      "Step  200 | Loss: -24.852919\n",
      "Step  220 | Loss: -25.711205\n",
      "Step  240 | Loss: -26.141741\n",
      "Step  260 | Loss: -26.374632\n",
      "Step  280 | Loss: -26.482742\n"
     ]
    }
   ],
   "source": [
    "mu, cov = dg.generate_gaussian_params(d=5, sigma_mu=0.1, sigma_cov=0.2, seed=0)\n",
    "samples = dg.generate_gaussian_data(mu, cov, n_samples=500, seed=0)\n",
    "\n",
    "params_hat = optimize_score_matching(samples, n_steps=300, lr=1e-2)\n",
    "\n",
    "mu_hat = params_hat[\"mu\"]\n",
    "precision_hat = params_hat[\"L\"] @ params_hat[\"L\"].T\n",
    "cov_hat = jnp.linalg.inv(precision_hat)"
   ]
  },
  {
   "cell_type": "code",
   "execution_count": 145,
   "id": "1dd1e714",
   "metadata": {},
   "outputs": [
    {
     "name": "stdout",
     "output_type": "stream",
     "text": [
      "[ 0.1004 -0.0906 -0.0748 -0.1171 -0.0871] \n",
      "\n",
      " [ 0.0993 -0.105  -0.0623 -0.1255 -0.096 ] 0.022669934 \n",
      "\n",
      "\n",
      "\n",
      "[[ 0.4443  0.1647 -0.0487  0.1263  0.169 ]\n",
      " [ 0.1647  0.372  -0.0433 -0.0838 -0.0586]\n",
      " [-0.0487 -0.0433  0.1443  0.0122 -0.0803]\n",
      " [ 0.1263 -0.0838  0.0122  0.2647  0.0518]\n",
      " [ 0.169  -0.0586 -0.0803  0.0518  0.214 ]] \n",
      "\n",
      " [[ 0.361   0.1421 -0.0485  0.0959  0.1368]\n",
      " [ 0.1421  0.3628 -0.0479 -0.0788 -0.0702]\n",
      " [-0.0485 -0.0479  0.1501  0.015  -0.075 ]\n",
      " [ 0.0959 -0.0788  0.015   0.2575  0.0315]\n",
      " [ 0.1368 -0.0702 -0.075   0.0315  0.2057]] 0.1157184 \n",
      "\n",
      "\n",
      "\n"
     ]
    }
   ],
   "source": [
    "jnp.set_printoptions(precision=4, suppress=True)\n",
    "\n",
    "print(jnp.round(mu, 4), \"\\n\\n\", jnp.round(mu_hat, 4), jnp.linalg.norm(mu - mu_hat), \"\\n\\n\\n\")\n",
    "print(jnp.round(cov, 4), \"\\n\\n\", jnp.round(cov_hat, 4), jnp.linalg.norm(cov - cov_hat), \"\\n\\n\\n\")"
   ]
  },
  {
   "cell_type": "code",
   "execution_count": null,
   "id": "3cea32a3",
   "metadata": {},
   "outputs": [],
   "source": []
  }
 ],
 "metadata": {
  "kernelspec": {
   "display_name": "cfm_env",
   "language": "python",
   "name": "python3"
  },
  "language_info": {
   "codemirror_mode": {
    "name": "ipython",
    "version": 3
   },
   "file_extension": ".py",
   "mimetype": "text/x-python",
   "name": "python",
   "nbconvert_exporter": "python",
   "pygments_lexer": "ipython3",
   "version": "3.13.0"
  }
 },
 "nbformat": 4,
 "nbformat_minor": 5
}

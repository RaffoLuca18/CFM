{
 "cells": [
  {
   "cell_type": "markdown",
   "id": "b5c73ec0",
   "metadata": {},
   "source": [
    "# Boltzmann Sampling for Small Ising Systems (JAX version)\n",
    "\n",
    "This notebook reproduces the brute‑force Gibbs sampler originally provided in Julia, translated to **Python/JAX** (`jax.numpy`). It enumerates all $2^n$ configurations of an Ising model, assigns Boltzmann weights\n",
    "$$w(s)=\\exp\\bigl(\\tfrac12 s^\\top J s + h^\\top s\\bigr),$$\n",
    "draws independent samples, compresses them into a histogram `[count, s₁, …, sₙ]`, and finally saves the result to CSV.\n"
   ]
  },
  {
   "cell_type": "code",
   "execution_count": 18,
   "id": "f762e909",
   "metadata": {},
   "outputs": [],
   "source": [
    "# Imports\n",
    "import jax.numpy as jnp\n",
    "from jax import random\n",
    "import pandas as pd\n",
    "import numpy as np"
   ]
  },
  {
   "cell_type": "code",
   "execution_count": 19,
   "id": "aa24339e",
   "metadata": {},
   "outputs": [],
   "source": [
    "# Helper: integer → spin vector {-1,+1}ᴺ\n",
    "def int_to_spin(ints: jnp.ndarray, n: int) -> jnp.ndarray:\n",
    "    \"\"\"Convert integers (0…2^n−1) to {-1,+1} spin vectors of length n.\"\"\"\n",
    "    bits = ((ints[:, None] >> jnp.arange(n)) & 1)\n",
    "    return 2 * bits - 1  # 0→‑1, 1→+1"
   ]
  },
  {
   "cell_type": "code",
   "execution_count": 20,
   "id": "b69416da",
   "metadata": {},
   "outputs": [],
   "source": [
    "from typing import Any  # solo per l'annotazione\n",
    "\n",
    "def sample_generation(sample_number: int,\n",
    "                      J: jnp.ndarray,\n",
    "                      h: jnp.ndarray,\n",
    "                      key: Any) -> np.ndarray:   # <‑‑ qui Any invece di random.KeyArray\n",
    "    \"\"\"\n",
    "    Enumerate configurations, compute Boltzmann weights, sample, return histogram.\n",
    "    \"\"\"\n",
    "    n = J.shape[0]\n",
    "    configs = jnp.arange(2 ** n, dtype=jnp.uint32)\n",
    "    spins   = int_to_spin(configs, n)\n",
    "\n",
    "    energies = 0.5 * jnp.einsum('bi,ij,bj->b', spins, J, spins) + spins @ h\n",
    "    logw     = energies - jnp.max(energies)\n",
    "    probs    = jnp.exp(logw) / jnp.sum(jnp.exp(logw))\n",
    "\n",
    "    samples  = random.choice(key, configs, shape=(sample_number,), p=probs, replace=True)\n",
    "\n",
    "    counts   = jnp.bincount(samples, length=configs.size)\n",
    "    nonzero  = jnp.nonzero(counts)[0]\n",
    "    spins_nz = int_to_spin(nonzero, n)\n",
    "\n",
    "    histogram = jnp.concatenate([counts[nonzero][:, None], spins_nz], axis=1)\n",
    "    return np.asarray(histogram, dtype=np.int64)\n"
   ]
  },
  {
   "cell_type": "code",
   "execution_count": 21,
   "id": "e3da484b",
   "metadata": {},
   "outputs": [],
   "source": [
    "# --- Parameters & data ---\n",
    "file_adj = \"input_adjacency.csv\"   # path to weighted adjacency matrix (J with h on diag)\n",
    "num_samples = 1_000_000              # number of samples to draw\n",
    "seed = 0                             # PRNG seed\n",
    "\n",
    "J_df = pd.read_csv(file_adj, header=None)\n",
    "J = jnp.array(J_df.values, dtype=jnp.float32)\n",
    "h = jnp.array(jnp.diag(J), dtype=jnp.float32)\n",
    "key = random.PRNGKey(seed)"
   ]
  },
  {
   "cell_type": "code",
   "execution_count": 22,
   "id": "323baa9c",
   "metadata": {},
   "outputs": [
    {
     "data": {
      "text/plain": [
       "array([[357491,     -1,     -1,     -1,     -1,     -1,     -1,     -1,\n",
       "            -1,     -1],\n",
       "       [ 26584,      1,     -1,     -1,     -1,     -1,     -1,     -1,\n",
       "            -1,     -1],\n",
       "       [ 11983,     -1,      1,     -1,     -1,     -1,     -1,     -1,\n",
       "            -1,     -1],\n",
       "       [   399,      1,      1,     -1,     -1,     -1,     -1,     -1,\n",
       "            -1,     -1],\n",
       "       [  6562,     -1,     -1,      1,     -1,     -1,     -1,     -1,\n",
       "            -1,     -1],\n",
       "       [  3602,      1,     -1,      1,     -1,     -1,     -1,     -1,\n",
       "            -1,     -1],\n",
       "       [  1615,     -1,      1,      1,     -1,     -1,     -1,     -1,\n",
       "            -1,     -1],\n",
       "       [   399,      1,      1,      1,     -1,     -1,     -1,     -1,\n",
       "            -1,     -1],\n",
       "       [ 11894,     -1,     -1,     -1,      1,     -1,     -1,     -1,\n",
       "            -1,     -1],\n",
       "       [  6534,      1,     -1,     -1,      1,     -1,     -1,     -1,\n",
       "            -1,     -1]])"
      ]
     },
     "execution_count": 22,
     "metadata": {},
     "output_type": "execute_result"
    }
   ],
   "source": [
    "# --- Sampling ---\n",
    "hist = sample_generation(num_samples, J, h, key)\n",
    "hist[:10]  # preview first 10 histogram rows"
   ]
  },
  {
   "cell_type": "code",
   "execution_count": 23,
   "id": "317fe3ee",
   "metadata": {},
   "outputs": [
    {
     "name": "stdout",
     "output_type": "stream",
     "text": [
      "Histogram saved to output_samples.csv\n"
     ]
    }
   ],
   "source": [
    "# --- Save histogram to CSV ---\n",
    "output_file = \"output_samples.csv\"\n",
    "pd.DataFrame(hist).to_csv(output_file, header=False, index=False)\n",
    "print(f\"Histogram saved to {output_file}\")"
   ]
  }
 ],
 "metadata": {
  "kernelspec": {
   "display_name": "cfm_env",
   "language": "python",
   "name": "python3"
  },
  "language_info": {
   "codemirror_mode": {
    "name": "ipython",
    "version": 3
   },
   "file_extension": ".py",
   "mimetype": "text/x-python",
   "name": "python",
   "nbconvert_exporter": "python",
   "pygments_lexer": "ipython3",
   "version": "3.13.0"
  }
 },
 "nbformat": 4,
 "nbformat_minor": 5
}

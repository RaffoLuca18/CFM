{
 "cells": [
  {
   "cell_type": "code",
   "execution_count": 1,
   "id": "0fadfbbf",
   "metadata": {},
   "outputs": [],
   "source": [
    "import sys\n",
    "import os\n",
    "sys.path.append(os.path.abspath('..'))\n",
    "\n",
    "import data_gen as dg\n",
    "import ising as isg\n",
    "\n",
    "import jax\n",
    "import jax.numpy as jnp\n",
    "import optax"
   ]
  },
  {
   "cell_type": "code",
   "execution_count": null,
   "id": "5d006e74",
   "metadata": {},
   "outputs": [],
   "source": [
    "d = 5\n",
    "\n",
    "n_init = 100\n",
    "\n",
    "n_replicas = 500\n",
    "\n",
    "h, J = dg.generate_ising_params(d, sigma_h=1, sigma_J=0.5, seed=0)"
   ]
  },
  {
   "cell_type": "code",
   "execution_count": 10,
   "id": "5c4d867e",
   "metadata": {},
   "outputs": [
    {
     "name": "stdout",
     "output_type": "stream",
     "text": [
      "step 0:[-0.18000000715255737, 0.06000000238418579, -0.14000000059604645, -0.18000000715255737, 0.08000000566244125]\n",
      "[-0.08000000566244125, 0.38700002431869507, 0.07300000637769699, -0.18700000643730164, 0.17000000178813934]\n",
      "0.1446000039577484\n",
      "\n",
      "step 5000:[0.36000001430511475, -0.3800000250339508, -0.36000001430511475, 0.320000022649765, -0.4000000059604645]\n",
      "[0.7990000247955322, -0.9300000667572021, -0.5610000491142273, 0.6360000371932983, -0.8080000281333923]\n",
      "0.08080001920461655\n",
      "\n",
      "step 10000:[0.06000000238418579, -0.06000000238418579, -0.04000000283122063, 0.04000000283122063, -0.08000000566244125]\n",
      "[0.26600000262260437, -0.3230000138282776, -0.16500000655651093, 0.023000001907348633, -0.23500001430511475]\n",
      "0.07080000638961792\n",
      "\n"
     ]
    }
   ],
   "source": [
    "samples = dg.generate_ising_data(n_init, n_replicas, h=h, J=J, n_steps_equil=10000, n_steps_final=5000, n_prints = 5000, beta=1, seed=12)"
   ]
  },
  {
   "cell_type": "code",
   "execution_count": 11,
   "id": "0ae016fb",
   "metadata": {},
   "outputs": [],
   "source": [
    "import numpy as np\n",
    "\n",
    "unique = []\n",
    "counts = []\n",
    "\n",
    "for i in range(len(samples)):\n",
    "    found = False\n",
    "    for j in range(len(unique)):\n",
    "        if np.array_equal(samples[i], unique[j]):\n",
    "            counts[j] += 1\n",
    "            found = True\n",
    "            break\n",
    "    if not found:\n",
    "        unique.append(samples[i])\n",
    "        counts.append(1)"
   ]
  },
  {
   "cell_type": "code",
   "execution_count": 12,
   "id": "8d99724e",
   "metadata": {},
   "outputs": [
    {
     "name": "stdout",
     "output_type": "stream",
     "text": [
      "[-1  1  1 -1  1] 17884\n",
      "[ 1 -1 -1  1 -1] 28581\n",
      "[-1  1 -1 -1  1] 1059\n",
      "[ 1 -1 -1 -1 -1] 400\n",
      "[ 1 -1  1  1 -1] 1160\n",
      "[-1  1  1 -1 -1] 93\n",
      "[ 1  1  1 -1  1] 147\n",
      "[-1 -1 -1 -1  1] 4\n",
      "[ 1 -1 -1  1  1] 95\n",
      "[ 1 -1  1 -1 -1] 79\n",
      "[-1  1 -1 -1 -1] 26\n",
      "[ 1 -1  1  1  1] 16\n",
      "[-1  1  1  1  1] 147\n",
      "[-1 -1 -1  1 -1] 144\n",
      "[-1 -1 -1  1  1] 17\n",
      "[-1 -1  1  1  1] 8\n",
      "[ 1 -1  1 -1  1] 20\n",
      "[ 1  1  1 -1 -1] 17\n",
      "[-1  1 -1  1  1] 53\n",
      "[ 1  1  1  1 -1] 2\n",
      "[ 1  1 -1 -1  1] 9\n",
      "[ 1 -1 -1 -1  1] 11\n",
      "[ 1  1 -1 -1 -1] 5\n",
      "[-1  1 -1  1 -1] 6\n",
      "[-1 -1 -1 -1 -1] 1\n",
      "[-1 -1  1 -1  1] 3\n",
      "[-1 -1  1  1 -1] 5\n",
      "[-1  1  1  1 -1] 4\n",
      "[1 1 1 1 1] 3\n",
      "[ 1  1 -1  1 -1] 1\n"
     ]
    }
   ],
   "source": [
    "for i in range(len(unique)):\n",
    "    print(unique[i], counts[i])"
   ]
  },
  {
   "cell_type": "code",
   "execution_count": null,
   "id": "9a187dd5",
   "metadata": {},
   "outputs": [],
   "source": []
  }
 ],
 "metadata": {
  "kernelspec": {
   "display_name": "cfm_env",
   "language": "python",
   "name": "python3"
  },
  "language_info": {
   "codemirror_mode": {
    "name": "ipython",
    "version": 3
   },
   "file_extension": ".py",
   "mimetype": "text/x-python",
   "name": "python",
   "nbconvert_exporter": "python",
   "pygments_lexer": "ipython3",
   "version": "3.13.0"
  }
 },
 "nbformat": 4,
 "nbformat_minor": 5
}

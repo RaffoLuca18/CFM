{
 "cells": [
  {
   "cell_type": "code",
   "execution_count": 12,
   "id": "4b95dab9",
   "metadata": {},
   "outputs": [],
   "source": [
    "import sys\n",
    "import os\n",
    "sys.path.append(os.path.abspath('..'))\n",
    "\n",
    "import data_gen as dg\n",
    "import ising as isg\n",
    "\n",
    "import jax\n",
    "import jax.numpy as jnp\n",
    "import optax"
   ]
  },
  {
   "cell_type": "code",
   "execution_count": 13,
   "id": "7f047ffd",
   "metadata": {},
   "outputs": [],
   "source": [
    "def score_matching_loss(params, samples):\n",
    "    mu, log_var = params  # log_var = log(sigma^2)\n",
    "    var = jnp.exp(log_var)\n",
    "    diffs = samples[:, 0] - mu\n",
    "\n",
    "    term1 = (diffs**2) / (var**2)\n",
    "    term2 = -2.0 / var\n",
    "\n",
    "    loss = 0.5 * jnp.mean(term1 + term2)\n",
    "    return loss"
   ]
  },
  {
   "cell_type": "code",
   "execution_count": 14,
   "id": "cb9ccafa",
   "metadata": {},
   "outputs": [],
   "source": [
    "def score_matching_step(params, opt_state, samples, optimizer):\n",
    "    \n",
    "    loss_val, grads = jax.value_and_grad(score_matching_loss)(params, samples)\n",
    "    updates, opt_state = optimizer.update(grads, opt_state)\n",
    "    params = optax.apply_updates(params, updates)\n",
    "\n",
    "    return params, opt_state, loss_val"
   ]
  },
  {
   "cell_type": "code",
   "execution_count": 15,
   "id": "ba3a11b9",
   "metadata": {},
   "outputs": [],
   "source": [
    "def optimize_score_matching(samples, mu_init, log_var_init, n_steps=1000, lr=1e-2):\n",
    "\n",
    "    params = jnp.array([mu_init, log_var_init])\n",
    "    optimizer = optax.adam(lr)\n",
    "    opt_state = optimizer.init(params)\n",
    "\n",
    "    for t in range(n_steps):\n",
    "        params, opt_state, loss_val = score_matching_step(params, opt_state, samples, optimizer)\n",
    "\n",
    "        if t % 100 == 0:\n",
    "            mu, log_var = params\n",
    "            print(f\"step {t} | loss = {loss_val:.6f} | mu = {mu:.4f} | sigma^2 = {jnp.exp(log_var):.4f}\")\n",
    "\n",
    "    return params"
   ]
  },
  {
   "cell_type": "code",
   "execution_count": 17,
   "id": "c186c153",
   "metadata": {},
   "outputs": [
    {
     "name": "stdout",
     "output_type": "stream",
     "text": [
      "step 0 | loss = 127.791931 | mu = -2.9000 | sigma^2 = 0.5526\n",
      "step 100 | loss = 0.575678 | mu = -0.5892 | sigma^2 = 4.5099\n",
      "step 200 | loss = 0.214989 | mu = -0.1169 | sigma^2 = 5.9693\n",
      "step 300 | loss = 0.091996 | mu = 0.2438 | sigma^2 = 7.1376\n",
      "step 400 | loss = 0.036084 | mu = 0.5438 | sigma^2 = 8.0773\n",
      "step 500 | loss = 0.005830 | mu = 0.8074 | sigma^2 = 8.8311\n",
      "step 600 | loss = -0.012640 | mu = 1.0481 | sigma^2 = 9.4257\n",
      "step 700 | loss = -0.025046 | mu = 1.2740 | sigma^2 = 9.8782\n",
      "step 800 | loss = -0.034121 | mu = 1.4908 | sigma^2 = 10.1991\n",
      "step 900 | loss = -0.041325 | mu = 1.7026 | sigma^2 = 10.3951\n",
      "step 1000 | loss = -0.047528 | mu = 1.9127 | sigma^2 = 10.4700\n",
      "step 1100 | loss = -0.053312 | mu = 2.1241 | sigma^2 = 10.4249\n",
      "step 1200 | loss = -0.059124 | mu = 2.3396 | sigma^2 = 10.2594\n",
      "step 1300 | loss = -0.065375 | mu = 2.5620 | sigma^2 = 9.9711\n",
      "step 1400 | loss = -0.072516 | mu = 2.7946 | sigma^2 = 9.5563\n",
      "step 1500 | loss = -0.081128 | mu = 3.0407 | sigma^2 = 9.0098\n",
      "step 1600 | loss = -0.092051 | mu = 3.3044 | sigma^2 = 8.3252\n",
      "step 1700 | loss = -0.106625 | mu = 3.5902 | sigma^2 = 7.4961\n",
      "step 1800 | loss = -0.127136 | mu = 3.9022 | sigma^2 = 6.5178\n",
      "step 1900 | loss = -0.157702 | mu = 4.2409 | sigma^2 = 5.3940\n",
      "step 2000 | loss = -0.205783 | mu = 4.5906 | sigma^2 = 4.1532\n",
      "step 2100 | loss = -0.283123 | mu = 4.8832 | sigma^2 = 2.8880\n",
      "step 2200 | loss = -0.395494 | mu = 4.9910 | sigma^2 = 1.8049\n",
      "step 2300 | loss = -0.478547 | mu = 4.9919 | sigma^2 = 1.1843\n",
      "step 2400 | loss = -0.487602 | mu = 4.9919 | sigma^2 = 1.0370\n",
      "step 2500 | loss = -0.487668 | mu = 4.9919 | sigma^2 = 1.0257\n",
      "step 2600 | loss = -0.487668 | mu = 4.9919 | sigma^2 = 1.0253\n",
      "step 2700 | loss = -0.487668 | mu = 4.9919 | sigma^2 = 1.0253\n",
      "step 2800 | loss = -0.487668 | mu = 4.9919 | sigma^2 = 1.0253\n",
      "step 2900 | loss = -0.487668 | mu = 4.9919 | sigma^2 = 1.0253\n",
      "step 3000 | loss = -0.487668 | mu = 4.9919 | sigma^2 = 1.0253\n",
      "step 3100 | loss = -0.487668 | mu = 4.9919 | sigma^2 = 1.0253\n",
      "step 3200 | loss = -0.487668 | mu = 4.9919 | sigma^2 = 1.0253\n",
      "step 3300 | loss = -0.487668 | mu = 4.9919 | sigma^2 = 1.0253\n",
      "step 3400 | loss = -0.487668 | mu = 4.9919 | sigma^2 = 1.0253\n",
      "step 3500 | loss = -0.487668 | mu = 4.9919 | sigma^2 = 1.0253\n",
      "step 3600 | loss = -0.487668 | mu = 4.9919 | sigma^2 = 1.0253\n",
      "step 3700 | loss = -0.487668 | mu = 4.9919 | sigma^2 = 1.0253\n",
      "step 3800 | loss = -0.487668 | mu = 4.9919 | sigma^2 = 1.0253\n",
      "step 3900 | loss = -0.487668 | mu = 4.9919 | sigma^2 = 1.0253\n",
      "step 4000 | loss = -0.487668 | mu = 4.9919 | sigma^2 = 1.0253\n",
      "step 4100 | loss = -0.487668 | mu = 4.9919 | sigma^2 = 1.0253\n",
      "step 4200 | loss = -0.487668 | mu = 4.9919 | sigma^2 = 1.0253\n",
      "step 4300 | loss = -0.487668 | mu = 4.9919 | sigma^2 = 1.0253\n",
      "step 4400 | loss = -0.487668 | mu = 4.9919 | sigma^2 = 1.0253\n",
      "step 4500 | loss = -0.487668 | mu = 4.9919 | sigma^2 = 1.0253\n",
      "step 4600 | loss = -0.487668 | mu = 4.9919 | sigma^2 = 1.0253\n",
      "step 4700 | loss = -0.487668 | mu = 4.9919 | sigma^2 = 1.0253\n",
      "step 4800 | loss = -0.487668 | mu = 4.9919 | sigma^2 = 1.0253\n",
      "step 4900 | loss = -0.487668 | mu = 4.9919 | sigma^2 = 1.0253\n",
      "\n",
      "Stima finale: mu = 4.9919, sigma^2 = 1.0253\n",
      "Valore vero: mu = 5.0201, sigma^2 = 1.0000\n"
     ]
    }
   ],
   "source": [
    "# dati\n",
    "d = 1\n",
    "n_samples = 1000\n",
    "mu_true, _ = dg.generate_gaussian_params(d=1, sigma_mu=5.0, sigma_cov=0.0, seed=0)\n",
    "samples = dg.generate_gaussian_data(mu_true, jnp.eye(1), n_samples=n_samples, seed=1)\n",
    "\n",
    "# inizializzazione\n",
    "mu_init = -3.0\n",
    "log_var_init = jnp.log(0.5)\n",
    "\n",
    "# ottimizzazione\n",
    "params_hat = optimize_score_matching(samples, mu_init, log_var_init, n_steps=5000, lr=0.1)\n",
    "mu_hat, log_var_hat = params_hat\n",
    "\n",
    "print(f\"\\nStima finale: mu = {mu_hat:.4f}, sigma^2 = {jnp.exp(log_var_hat):.4f}\")\n",
    "print(f\"Valore vero: mu = {mu_true[0]:.4f}, sigma^2 = 1.0000\")\n"
   ]
  },
  {
   "cell_type": "code",
   "execution_count": null,
   "id": "85cc695b",
   "metadata": {},
   "outputs": [],
   "source": []
  },
  {
   "cell_type": "code",
   "execution_count": null,
   "id": "2fe015c3",
   "metadata": {},
   "outputs": [],
   "source": []
  }
 ],
 "metadata": {
  "kernelspec": {
   "display_name": "cfm_env",
   "language": "python",
   "name": "python3"
  },
  "language_info": {
   "codemirror_mode": {
    "name": "ipython",
    "version": 3
   },
   "file_extension": ".py",
   "mimetype": "text/x-python",
   "name": "python",
   "nbconvert_exporter": "python",
   "pygments_lexer": "ipython3",
   "version": "3.13.0"
  }
 },
 "nbformat": 4,
 "nbformat_minor": 5
}

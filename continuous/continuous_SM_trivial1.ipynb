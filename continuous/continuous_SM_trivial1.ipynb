{
 "cells": [
  {
   "cell_type": "code",
   "execution_count": 18,
   "id": "566ab3d8",
   "metadata": {},
   "outputs": [],
   "source": [
    "import sys\n",
    "import os\n",
    "sys.path.append(os.path.abspath('..'))\n",
    "\n",
    "import data_gen as dg\n",
    "import ising as isg\n",
    "\n",
    "import jax\n",
    "import jax.numpy as jnp\n",
    "import optax"
   ]
  },
  {
   "cell_type": "code",
   "execution_count": 19,
   "id": "f658650b",
   "metadata": {},
   "outputs": [],
   "source": [
    "def score_matching_loss(theta, samples):\n",
    "    \n",
    "    residuals = samples[:, 0] - theta[0]\n",
    "    loss = 0.5 * jnp.mean(residuals**2) - 1.0\n",
    "\n",
    "    return loss"
   ]
  },
  {
   "cell_type": "code",
   "execution_count": 20,
   "id": "cb31f254",
   "metadata": {},
   "outputs": [],
   "source": [
    "def score_matching_step(params, opt_state, samples, optimizer):\n",
    "\n",
    "    loss_val, grads = jax.value_and_grad(score_matching_loss)(params, samples)\n",
    "    updates, opt_state = optimizer.update(grads, opt_state)\n",
    "    params = optax.apply_updates(params, updates)\n",
    "    \n",
    "    return params, opt_state, loss_val"
   ]
  },
  {
   "cell_type": "code",
   "execution_count": 21,
   "id": "b87068d2",
   "metadata": {},
   "outputs": [],
   "source": [
    "def optimize_score_matching(samples, theta_init, n_steps=1000, lr=1e-2):\n",
    "\n",
    "    params = jnp.array([theta_init])\n",
    "    optimizer = optax.adam(lr)\n",
    "    opt_state = optimizer.init(params)\n",
    "\n",
    "    for t in range(n_steps):\n",
    "        params, opt_state, loss_val = score_matching_step(params, opt_state, samples, optimizer)\n",
    "\n",
    "        if t % 100 == 0:\n",
    "            print(f\"step {t} | loss = {loss_val:.6f} | theta = {params[0]:.4f}\")\n",
    "\n",
    "    return params[0]"
   ]
  },
  {
   "cell_type": "code",
   "execution_count": 23,
   "id": "1e419100",
   "metadata": {},
   "outputs": [
    {
     "name": "stdout",
     "output_type": "stream",
     "text": [
      "step 0 | loss = 49.431808 | theta = -4.9000\n",
      "step 100 | loss = 2.018369 | theta = 2.7982\n",
      "step 200 | loss = -0.475407 | theta = 4.8425\n",
      "step 300 | loss = -0.487354 | theta = 4.9902\n",
      "step 400 | loss = -0.487356 | theta = 4.9919\n",
      "step 500 | loss = -0.487356 | theta = 4.9919\n",
      "step 600 | loss = -0.487356 | theta = 4.9919\n",
      "step 700 | loss = -0.487356 | theta = 4.9919\n",
      "step 800 | loss = -0.487356 | theta = 4.9919\n",
      "step 900 | loss = -0.487356 | theta = 4.9919\n",
      "estimated theta = 4.9919, true theta = 5.0201\n"
     ]
    }
   ],
   "source": [
    "d = 1\n",
    "n_samples = 1000\n",
    "mu_true, _ = dg.generate_gaussian_params(d=1, sigma_mu=5.0, sigma_cov=0.0, seed=0)\n",
    "samples = dg.generate_gaussian_data(mu_true, jnp.eye(1), n_samples=n_samples, seed=1)\n",
    "\n",
    "theta_init = -5.0\n",
    "theta_hat = optimize_score_matching(samples, theta_init, n_steps=1000, lr=0.1)\n",
    "\n",
    "print(f\"estimated theta = {theta_hat:.4f}, true theta = {mu_true[0]:.4f}\")\n"
   ]
  }
 ],
 "metadata": {
  "kernelspec": {
   "display_name": "cfm_env",
   "language": "python",
   "name": "python3"
  },
  "language_info": {
   "codemirror_mode": {
    "name": "ipython",
    "version": 3
   },
   "file_extension": ".py",
   "mimetype": "text/x-python",
   "name": "python",
   "nbconvert_exporter": "python",
   "pygments_lexer": "ipython3",
   "version": "3.13.0"
  }
 },
 "nbformat": 4,
 "nbformat_minor": 5
}

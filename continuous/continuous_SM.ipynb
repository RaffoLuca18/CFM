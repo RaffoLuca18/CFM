{
 "cells": [
  {
   "cell_type": "code",
   "execution_count": 11,
   "id": "bedeb697",
   "metadata": {},
   "outputs": [],
   "source": [
    "import sys\n",
    "import os\n",
    "sys.path.append(os.path.abspath('..'))\n",
    "\n",
    "import data_gen as dg\n",
    "import ising as isg\n",
    "\n",
    "import jax\n",
    "import jax.numpy as jnp\n",
    "import optax"
   ]
  },
  {
   "cell_type": "code",
   "execution_count": 12,
   "id": "92e6af86",
   "metadata": {},
   "outputs": [],
   "source": [
    "def score_matching_loss(params, samples):\n",
    "\n",
    "    mu = params[\"mu\"]\n",
    "    L = params[\"L\"]\n",
    "    Lambda = L @ L.T\n",
    "\n",
    "    centered = samples - mu\n",
    "    Lambda2 = Lambda @ Lambda\n",
    "    quad_terms = jnp.sum((centered @ Lambda2) * centered, axis=1)\n",
    "\n",
    "    loss = 0.5 * jnp.mean(quad_terms) - jnp.trace(Lambda)\n",
    "    \n",
    "    return loss"
   ]
  },
  {
   "cell_type": "code",
   "execution_count": 13,
   "id": "1297f931",
   "metadata": {},
   "outputs": [],
   "source": [
    "def optimize_score_matching(samples, n_steps=1000, lr=1e-2, seed=0):\n",
    "\n",
    "    d = samples.shape[1]\n",
    "    key = jax.random.PRNGKey(seed)\n",
    "    key_mu, key_L = jax.random.split(key)\n",
    "\n",
    "    mu_init = jax.random.normal(key_mu, shape=(d,))\n",
    "    L_init = jnp.eye(d) + 0.01 * jax.random.normal(key_L, shape=(d, d))\n",
    "\n",
    "    L_init = jnp.tril(L_init)\n",
    "\n",
    "    params = {\"mu\": mu_init, \"L\": L_init}\n",
    "    optimizer = optax.adam(lr)\n",
    "    opt_state = optimizer.init(params)\n",
    "\n",
    "    loss_grad_fn = jax.value_and_grad(score_matching_loss)\n",
    "\n",
    "    for step in range(n_steps):\n",
    "        loss_val, grads = loss_grad_fn(params, samples)\n",
    "        updates, opt_state = optimizer.update(grads, opt_state)\n",
    "        params = optax.apply_updates(params, updates)\n",
    "\n",
    "        params[\"L\"] = jnp.tril(params[\"L\"])\n",
    "\n",
    "        if step % 100 == 0:\n",
    "            print(f\"Step {step:4d} | Loss: {loss_val:.6f}\")\n",
    "\n",
    "    return params"
   ]
  },
  {
   "cell_type": "code",
   "execution_count": 14,
   "id": "7aee8544",
   "metadata": {},
   "outputs": [
    {
     "name": "stdout",
     "output_type": "stream",
     "text": [
      "Step    0 | Loss: -2.439819\n",
      "Step  100 | Loss: -11.456070\n",
      "Step  200 | Loss: -25.564577\n",
      "Step  300 | Loss: -27.581137\n",
      "Step  400 | Loss: -27.638535\n",
      "Step  500 | Loss: -27.639832\n",
      "Step  600 | Loss: -27.632603\n",
      "Step  700 | Loss: -27.639864\n",
      "Step  800 | Loss: -27.639862\n",
      "Step  900 | Loss: -27.639833\n"
     ]
    }
   ],
   "source": [
    "mu, cov = dg.generate_gaussian_params(d=5, sigma_mu=0.1, sigma_cov=0.2, seed=0)\n",
    "samples = dg.generate_gaussian_data(mu, cov, n_samples=5000, seed=1)\n",
    "\n",
    "params_hat = optimize_score_matching(samples, n_steps=1000, lr=1e-2)\n",
    "\n",
    "mu_hat = params_hat[\"mu\"]\n",
    "precision_hat = params_hat[\"L\"] @ params_hat[\"L\"].T\n",
    "cov_hat = jnp.linalg.inv(precision_hat)"
   ]
  },
  {
   "cell_type": "code",
   "execution_count": 15,
   "id": "db0bc2bb",
   "metadata": {},
   "outputs": [
    {
     "name": "stdout",
     "output_type": "stream",
     "text": [
      "[ 0.10040142 -0.09063372 -0.07481723 -0.11713669 -0.08712328] \n",
      "\n",
      " [ 0.09848906 -0.10065973 -0.07100011 -0.12589708 -0.08577091] \n",
      "\n",
      "\n",
      "\n",
      "[[ 0.44429743  0.16468923 -0.04871666  0.1263152   0.16904442]\n",
      " [ 0.16468923  0.3720387  -0.04333964 -0.08381284 -0.05857849]\n",
      " [-0.04871666 -0.04333964  0.14431155  0.01220462 -0.08030083]\n",
      " [ 0.1263152  -0.08381284  0.01220462  0.2647391   0.05178968]\n",
      " [ 0.1690444  -0.05857849 -0.08030083  0.05178968  0.2139716 ]] \n",
      "\n",
      " [[ 0.44445962  0.15949708 -0.04591568  0.12920672  0.1701761 ]\n",
      " [ 0.15949708  0.36336207 -0.04257188 -0.08282109 -0.05459233]\n",
      " [-0.04591568 -0.04257189  0.14183275  0.01025948 -0.07798707]\n",
      " [ 0.12920673 -0.08282107  0.01025947  0.2637142   0.05422248]\n",
      " [ 0.1701761  -0.05459231 -0.07798707  0.05422248  0.20998599]] \n",
      "\n",
      "\n",
      "\n"
     ]
    }
   ],
   "source": [
    "print(mu, \"\\n\\n\", mu_hat, \"\\n\\n\\n\")\n",
    "print(cov, \"\\n\\n\", cov_hat, \"\\n\\n\\n\")"
   ]
  }
 ],
 "metadata": {
  "kernelspec": {
   "display_name": "cfm_env",
   "language": "python",
   "name": "python3"
  },
  "language_info": {
   "codemirror_mode": {
    "name": "ipython",
    "version": 3
   },
   "file_extension": ".py",
   "mimetype": "text/x-python",
   "name": "python",
   "nbconvert_exporter": "python",
   "pygments_lexer": "ipython3",
   "version": "3.13.0"
  }
 },
 "nbformat": 4,
 "nbformat_minor": 5
}

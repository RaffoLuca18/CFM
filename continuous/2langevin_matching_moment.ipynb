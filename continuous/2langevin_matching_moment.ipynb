{
 "cells": [
  {
   "cell_type": "code",
   "execution_count": 257,
   "id": "f322eb38",
   "metadata": {},
   "outputs": [],
   "source": [
    "import jax\n",
    "import jax.numpy as jnp\n",
    "import optax\n",
    "\n",
    "import matplotlib.pyplot as plt\n",
    "import numpy as np\n",
    "\n",
    "from tqdm import tqdm as tqdm\n",
    "import pandas as pd"
   ]
  },
  {
   "cell_type": "code",
   "execution_count": 258,
   "id": "292e781f",
   "metadata": {},
   "outputs": [],
   "source": [
    "def generate_gaussian_samples(mu, cov, n_samples, seed=0):\n",
    "\n",
    "    d = mu.shape[0]\n",
    "    key = jax.random.PRNGKey(seed)\n",
    "    z = jax.random.normal(key, shape=(n_samples, d))\n",
    "\n",
    "    L = jnp.linalg.cholesky(cov)\n",
    "    samples = mu + z @ L.T\n",
    "    \n",
    "    return samples"
   ]
  },
  {
   "cell_type": "code",
   "execution_count": 259,
   "id": "cf9f57a7",
   "metadata": {},
   "outputs": [],
   "source": [
    "def potential_grad(sample, mu, cov):\n",
    "\n",
    "    precision = jnp.linalg.inv(cov)\n",
    "\n",
    "    return (sample - mu) @ precision"
   ]
  },
  {
   "cell_type": "code",
   "execution_count": 291,
   "id": "b8b40d51",
   "metadata": {},
   "outputs": [],
   "source": [
    "def evolve_langevin(samples, mu, cov, eps=1e-2, n_evolution=200, seed=0):\n",
    "    \n",
    "    key = jax.random.PRNGKey(seed)\n",
    "    evolved_samples = samples\n",
    "\n",
    "    for i in range(n_evolution):\n",
    "        key, subkey = jax.random.split(key)\n",
    "        grad = potential_grad(evolved_samples, mu, cov)\n",
    "        noise = jax.random.normal(subkey, shape=evolved_samples.shape)\n",
    "        evolved_samples = evolved_samples - eps * grad + jnp.sqrt(2 * eps) * noise\n",
    "\n",
    "    return evolved_samples"
   ]
  },
  {
   "cell_type": "code",
   "execution_count": 292,
   "id": "7ced9c36",
   "metadata": {},
   "outputs": [],
   "source": [
    "def compute_moments_disc(samples, evolved_samples):\n",
    "\n",
    "    mu_1 = jnp.mean(samples, axis=0)\n",
    "    mu_2 = jnp.mean(evolved_samples, axis=0)\n",
    "\n",
    "    centered_1 = samples - mu_1\n",
    "    centered_2 = evolved_samples - mu_2\n",
    "\n",
    "    cov_1 = centered_1.T @ centered_1 / samples.shape[0]\n",
    "    cov_2 = centered_2.T @ centered_2 / evolved_samples.shape[0]\n",
    "\n",
    "    loss_mu = jnp.sum((mu_1 - mu_2) ** 2)\n",
    "    loss_cov = jnp.sum((cov_1 - cov_2) ** 2)\n",
    "\n",
    "    return loss_mu + loss_cov"
   ]
  },
  {
   "cell_type": "code",
   "execution_count": 293,
   "id": "4c4e156e",
   "metadata": {},
   "outputs": [],
   "source": [
    "def lm_loss(samples, mu, cov):\n",
    "\n",
    "    evolved_samples = evolve_langevin(samples, mu, cov)\n",
    "\n",
    "    return compute_moments_disc(samples, evolved_samples)"
   ]
  },
  {
   "cell_type": "code",
   "execution_count": 294,
   "id": "6714785a",
   "metadata": {},
   "outputs": [],
   "source": [
    "def lm_optimize(samples, n_epochs=1000, lr=1e-2, seed=10, eps=1e-2, plot_every=2):\n",
    "    n, d = samples.shape\n",
    "\n",
    "    key = jax.random.PRNGKey(seed)\n",
    "    key_mu, key_A = jax.random.split(key)\n",
    "\n",
    "    mu = jax.random.normal(key_mu, shape=(d,))\n",
    "    A = jax.random.normal(key_A, shape=(d, d))\n",
    "\n",
    "    params = {\n",
    "        \"mu\": mu,\n",
    "        \"A\": A\n",
    "    }\n",
    "\n",
    "    optimizer = optax.adam(lr)\n",
    "    opt_state = optimizer.init(params)\n",
    "\n",
    "    def loss_fn(params, samples):\n",
    "        mu = params[\"mu\"]\n",
    "        A = params[\"A\"]\n",
    "        cov = A.T @ A\n",
    "        return lm_loss(samples, mu, cov)\n",
    "\n",
    "    for epoch in range(n_epochs):\n",
    "        loss_val, grads = jax.value_and_grad(loss_fn)(params, samples)\n",
    "        updates, opt_state = optimizer.update(grads, opt_state)\n",
    "        params = optax.apply_updates(params, updates)\n",
    "\n",
    "        if epoch % plot_every == 0 or epoch == n_epochs - 1:\n",
    "            print(f\"epoch {epoch} | loss = {loss_val:.6f}\")\n",
    "\n",
    "    final_mu = params[\"mu\"]\n",
    "    final_cov = params[\"A\"].T @ params[\"A\"]\n",
    "\n",
    "    return final_mu, final_cov"
   ]
  },
  {
   "cell_type": "code",
   "execution_count": 295,
   "id": "a79946ab",
   "metadata": {},
   "outputs": [],
   "source": [
    "def lm_optimize_with_tracking(\n",
    "    samples,\n",
    "    true_mu,\n",
    "    true_cov,\n",
    "    n_epochs=1000,\n",
    "    base_lr=1e-2,\n",
    "    seed=10,\n",
    "    eps=1e-2,\n",
    "    plot_every=200,\n",
    "    use_lr_schedule=True\n",
    "):\n",
    "    n, d = samples.shape\n",
    "\n",
    "    key = jax.random.PRNGKey(seed)\n",
    "    key_mu, key_A = jax.random.split(key)\n",
    "\n",
    "    mu = jax.random.normal(key_mu, shape=(d,))\n",
    "    A = jax.random.normal(key_A, shape=(d, d))\n",
    "\n",
    "    params = {\n",
    "        \"mu\": mu,\n",
    "        \"A\": A\n",
    "    }\n",
    "\n",
    "    # Define learning rate schedule (optional)\n",
    "    if use_lr_schedule:\n",
    "        lr_schedule = optax.linear_schedule(\n",
    "            init_value=1e-2,     # valore iniziale piccolo\n",
    "            end_value=base_lr,   # valore finale target\n",
    "            transition_steps=500 # numero di step per raggiungerlo\n",
    "        )\n",
    "        optimizer = optax.adam(learning_rate=lr_schedule)\n",
    "    else:\n",
    "        optimizer = optax.adam(learning_rate=base_lr)\n",
    "\n",
    "\n",
    "    opt_state = optimizer.init(params)\n",
    "\n",
    "    def loss_fn(params, samples):\n",
    "        mu = params[\"mu\"]\n",
    "        A = params[\"A\"]\n",
    "        cov = A.T @ A\n",
    "        return lm_loss(samples, mu, cov)\n",
    "\n",
    "    history = {\n",
    "        \"loss\": [],\n",
    "        \"mu_l2\": [],\n",
    "        \"cov_fro\": [],\n",
    "    }\n",
    "\n",
    "    for epoch in range(n_epochs):\n",
    "        loss_val, grads = jax.value_and_grad(loss_fn)(params, samples)\n",
    "        updates, opt_state = optimizer.update(grads, opt_state, params)\n",
    "        params = optax.apply_updates(params, updates)\n",
    "\n",
    "        mu_val = params[\"mu\"]\n",
    "        A_val = params[\"A\"]\n",
    "        cov_val = A_val.T @ A_val\n",
    "\n",
    "        history[\"loss\"].append(loss_val)\n",
    "        history[\"mu_l2\"].append(jnp.linalg.norm(true_mu - mu_val))\n",
    "        history[\"cov_fro\"].append(jnp.linalg.norm(true_cov - cov_val, ord='fro'))\n",
    "\n",
    "        if epoch % plot_every == 0 or epoch == n_epochs - 1:\n",
    "            print(f\"epoch {epoch} | loss = {loss_val:.6f}\")\n",
    "\n",
    "    final_mu = params[\"mu\"]\n",
    "    final_cov = params[\"A\"].T @ params[\"A\"]\n",
    "\n",
    "    return final_mu, final_cov, history\n"
   ]
  },
  {
   "cell_type": "code",
   "execution_count": 296,
   "id": "0f275876",
   "metadata": {},
   "outputs": [],
   "source": [
    "mu = jnp.array([0.0, 1.0, -1.0, 0.5, -0.5])\n",
    "\n",
    "cov = jnp.array([\n",
    "    [2.0,  0.4,  0.3,  0.2,  0.1],\n",
    "    [0.4,  1.8,  0.2,  0.1,  0.2],\n",
    "    [0.3,  0.2,  1.5,  0.3,  0.2],\n",
    "    [0.2,  0.1,  0.3,  1.3,  0.4],\n",
    "    [0.1,  0.2,  0.2,  0.4,  1.6]\n",
    "])"
   ]
  },
  {
   "cell_type": "code",
   "execution_count": 297,
   "id": "a5c891cd",
   "metadata": {},
   "outputs": [
    {
     "name": "stdout",
     "output_type": "stream",
     "text": [
      "epoch 0 | loss = 24.540907\n",
      "epoch 200 | loss = 0.000001\n",
      "epoch 249 | loss = 0.000000\n"
     ]
    }
   ],
   "source": [
    "samples = generate_gaussian_samples(mu, cov, n_samples=2000, seed=0)\n",
    "\n",
    "final_mu, final_cov, history = lm_optimize_with_tracking(samples, mu, cov, n_epochs=250, base_lr=0.1, seed = 0)"
   ]
  },
  {
   "cell_type": "code",
   "execution_count": 298,
   "id": "f029633f",
   "metadata": {},
   "outputs": [
    {
     "name": "stdout",
     "output_type": "stream",
     "text": [
      "[ 0.   1.  -1.   0.5 -0.5] \n",
      "\n",
      " [-0.0274  0.9947 -0.9219  0.474  -0.4633] 0.09437682 \n",
      "\n",
      "\n",
      "\n",
      "[[2.  0.4 0.3 0.2 0.1]\n",
      " [0.4 1.8 0.2 0.1 0.2]\n",
      " [0.3 0.2 1.5 0.3 0.2]\n",
      " [0.2 0.1 0.3 1.3 0.4]\n",
      " [0.1 0.2 0.2 0.4 1.6]] \n",
      "\n",
      " [[1.9679 0.3031 0.2564 0.1887 0.1418]\n",
      " [0.3031 1.8314 0.2332 0.0873 0.1899]\n",
      " [0.2564 0.2332 1.4851 0.3092 0.3138]\n",
      " [0.1887 0.0873 0.3092 1.3425 0.3996]\n",
      " [0.1418 0.1899 0.3138 0.3996 1.7475]] 0.28456184 \n",
      "\n",
      "\n",
      "\n"
     ]
    }
   ],
   "source": [
    "jnp.set_printoptions(precision=4, suppress=True)\n",
    "\n",
    "print(jnp.round(mu, 4), \"\\n\\n\", jnp.round(final_mu, 4), jnp.linalg.norm(mu - final_mu), \"\\n\\n\\n\")\n",
    "print(jnp.round(cov, 4), \"\\n\\n\", jnp.round(final_cov, 4), jnp.linalg.norm(cov - final_cov), \"\\n\\n\\n\")"
   ]
  },
  {
   "cell_type": "code",
   "execution_count": 299,
   "id": "6f1af646",
   "metadata": {},
   "outputs": [],
   "source": [
    "history_np = {k: np.array(v) for k, v in history.items()}"
   ]
  },
  {
   "cell_type": "code",
   "execution_count": 300,
   "id": "34daabcc",
   "metadata": {},
   "outputs": [
    {
     "data": {
      "image/png": "[encoded data removed]",
      "text/plain": [
       "<Figure size 1200x600 with 2 Axes>"
      ]
     },
     "metadata": {},
     "output_type": "display_data"
    }
   ],
   "source": [
    "plt.figure(figsize=(12, 6))\n",
    "\n",
    "plt.subplot(1, 2, 1)\n",
    "plt.plot(history_np[\"loss\"], label=\"langevin matching loss\")\n",
    "plt.xlabel(\"step\")\n",
    "plt.ylabel(\"loss\")\n",
    "plt.title(\"loss evolution\")\n",
    "plt.grid(True)\n",
    "plt.legend()\n",
    "\n",
    "ymin_recon = 1e-2\n",
    "ymax_recon = 100.0\n",
    "plt.subplot(1, 2, 2)\n",
    "plt.plot(history_np[\"mu_l2\"], label=r\"$\\| \\mu - \\hat{\\mu} \\|_2$\")\n",
    "plt.plot(history_np[\"cov_fro\"], label=r\"$\\| \\Sigma - \\hat{\\Sigma} \\|_F$\")\n",
    "plt.ylim(ymin_recon, ymax_recon)\n",
    "plt.yscale(\"log\")\n",
    "plt.xlabel(\"step\")\n",
    "plt.title(\"reconstruction error\")\n",
    "plt.grid(True)\n",
    "plt.legend()\n",
    "\n",
    "plt.tight_layout()\n",
    "plt.show()"
   ]
  },
  {
   "cell_type": "code",
   "execution_count": 301,
   "id": "10b7f27f",
   "metadata": {},
   "outputs": [
    {
     "data": {
      "text/plain": [
       "array([2.7474, 2.7311, 2.7145, 2.6977, 2.6806, 2.663 , 2.6447, 2.6256,\n",
       "       2.6058, 2.5853, 2.5641, 2.5424, 2.5202, 2.4975, 2.4744, 2.4509,\n",
       "       2.427 , 2.4026, 2.3779, 2.3528, 2.3273, 2.3015, 2.2752, 2.2487,\n",
       "       2.2217, 2.1945, 2.1669, 2.139 , 2.1109, 2.0825, 2.0539, 2.0251,\n",
       "       1.9961, 1.9669, 1.9377, 1.9084, 1.879 , 1.8496, 1.8202, 1.7908,\n",
       "       1.7615, 1.7322, 1.7031, 1.6739, 1.6449, 1.6158, 1.5867, 1.5574,\n",
       "       1.528 , 1.4983, 1.4682, 1.4376, 1.4066, 1.3751, 1.3432, 1.3109,\n",
       "       1.2783, 1.2455, 1.2126, 1.1799, 1.1473, 1.1152, 1.0835, 1.0524,\n",
       "       1.0221, 0.9927, 0.9642, 0.9368, 0.9105, 0.8852, 0.861 , 0.8378,\n",
       "       0.8153, 0.7934, 0.7718, 0.7503, 0.7287, 0.7068, 0.6844, 0.6615,\n",
       "       0.6382, 0.6145, 0.5905, 0.5664, 0.5424, 0.5187, 0.4954, 0.4728,\n",
       "       0.4511, 0.4303, 0.4106, 0.392 , 0.3746, 0.3582, 0.343 , 0.3287,\n",
       "       0.3152, 0.3027, 0.2908, 0.2796, 0.269 , 0.2589, 0.2493, 0.2402,\n",
       "       0.2314, 0.2231, 0.215 , 0.2073, 0.1998, 0.1926, 0.1857, 0.1789,\n",
       "       0.1724, 0.1661, 0.16  , 0.1542, 0.1487, 0.1435, 0.1386, 0.1341,\n",
       "       0.1299, 0.1261, 0.1227, 0.1197, 0.1171, 0.1148, 0.1129, 0.1112,\n",
       "       0.1098, 0.1087, 0.1077, 0.1069, 0.1062, 0.1056, 0.1051, 0.1045,\n",
       "       0.104 , 0.1034, 0.1027, 0.1021, 0.1013, 0.1006, 0.0997, 0.0989,\n",
       "       0.098 , 0.0972, 0.0964, 0.0956, 0.0949, 0.0943, 0.0938, 0.0933,\n",
       "       0.093 , 0.0928, 0.0927, 0.0926, 0.0927, 0.0928, 0.0929, 0.0931,\n",
       "       0.0934, 0.0936, 0.0938, 0.0941, 0.0943, 0.0945, 0.0946, 0.0947,\n",
       "       0.0948, 0.0948, 0.0947, 0.0947, 0.0946, 0.0945, 0.0943, 0.0942,\n",
       "       0.0941, 0.094 , 0.0939, 0.0938, 0.0937, 0.0937, 0.0937, 0.0937,\n",
       "       0.0938, 0.0939, 0.0939, 0.094 , 0.0942, 0.0943, 0.0944, 0.0945,\n",
       "       0.0945, 0.0946, 0.0947, 0.0947, 0.0947, 0.0947, 0.0947, 0.0947,\n",
       "       0.0947, 0.0946, 0.0946, 0.0945, 0.0945, 0.0944, 0.0944, 0.0944,\n",
       "       0.0944, 0.0943, 0.0943, 0.0943, 0.0943, 0.0944, 0.0944, 0.0944,\n",
       "       0.0944, 0.0944, 0.0944, 0.0944, 0.0944, 0.0944, 0.0944, 0.0944,\n",
       "       0.0944, 0.0944, 0.0944, 0.0944, 0.0944, 0.0944, 0.0943, 0.0943,\n",
       "       0.0943, 0.0943, 0.0943, 0.0943, 0.0943, 0.0943, 0.0943, 0.0944,\n",
       "       0.0944, 0.0944, 0.0944, 0.0944, 0.0944, 0.0944, 0.0944, 0.0944,\n",
       "       0.0944, 0.0944], dtype=float32)"
      ]
     },
     "execution_count": 301,
     "metadata": {},
     "output_type": "execute_result"
    }
   ],
   "source": [
    "history_np[\"mu_l2\"]"
   ]
  },
  {
   "cell_type": "code",
   "execution_count": 302,
   "id": "7341840c",
   "metadata": {},
   "outputs": [
    {
     "data": {
      "text/plain": [
       "array([16.65  , 16.3797, 16.1118, 15.844 , 15.575 , 15.3039, 15.0304,\n",
       "       14.7547, 14.4771, 14.1981, 13.9182, 13.6375, 13.3557, 13.0723,\n",
       "       12.7868, 12.4994, 12.2103, 11.92  , 11.6286, 11.3365, 11.0438,\n",
       "       10.7507, 10.4574, 10.1641,  9.8707,  9.5773,  9.284 ,  8.9909,\n",
       "        8.6979,  8.4054,  8.1139,  7.8239,  7.5362,  7.2513,  6.9696,\n",
       "        6.6913,  6.4163,  6.1443,  5.8749,  5.608 ,  5.344 ,  5.0835,\n",
       "        4.8275,  4.5769,  4.3325,  4.095 ,  3.8647,  3.6414,  3.4248,\n",
       "        3.2139,  3.008 ,  2.8059,  2.6069,  2.4106,  2.2169,  2.0263,\n",
       "        1.8395,  1.6578,  1.4827,  1.3158,  1.1591,  1.0149,  0.8858,\n",
       "        0.7741,  0.6819,  0.61  ,  0.5576,  0.5219,  0.499 ,  0.4851,\n",
       "        0.4768,  0.472 ,  0.4696,  0.4689,  0.4696,  0.4711,  0.4731,\n",
       "        0.475 ,  0.4763,  0.4763,  0.4745,  0.4702,  0.4629,  0.4523,\n",
       "        0.4384,  0.4214,  0.402 ,  0.3809,  0.3591,  0.3378,  0.3178,\n",
       "        0.2998,  0.2845,  0.2722,  0.2632,  0.2574,  0.2547,  0.2546,\n",
       "        0.2567,  0.2605,  0.2657,  0.2721,  0.2791,  0.2865,  0.2938,\n",
       "        0.3005,  0.3064,  0.3112,  0.3148,  0.3173,  0.3186,  0.3188,\n",
       "        0.318 ,  0.3164,  0.3143,  0.3118,  0.3092,  0.3065,  0.3039,\n",
       "        0.3014,  0.2991,  0.2971,  0.2955,  0.2943,  0.2934,  0.2928,\n",
       "        0.2923,  0.2918,  0.2912,  0.2905,  0.2895,  0.2882,  0.2866,\n",
       "        0.2849,  0.2832,  0.2816,  0.2802,  0.279 ,  0.2782,  0.2776,\n",
       "        0.2774,  0.2775,  0.2777,  0.2781,  0.2786,  0.2791,  0.2798,\n",
       "        0.2804,  0.2811,  0.2817,  0.2824,  0.283 ,  0.2837,  0.2843,\n",
       "        0.285 ,  0.2856,  0.2862,  0.2868,  0.2874,  0.2878,  0.2881,\n",
       "        0.2883,  0.2883,  0.2882,  0.288 ,  0.2877,  0.2873,  0.2868,\n",
       "        0.2864,  0.2859,  0.2855,  0.285 ,  0.2846,  0.2843,  0.2839,\n",
       "        0.2836,  0.2834,  0.2832,  0.2831,  0.283 ,  0.283 ,  0.2831,\n",
       "        0.2832,  0.2833,  0.2835,  0.2837,  0.2839,  0.2841,  0.2843,\n",
       "        0.2845,  0.2846,  0.2848,  0.2849,  0.285 ,  0.2851,  0.2852,\n",
       "        0.2852,  0.2853,  0.2853,  0.2853,  0.2853,  0.2852,  0.2851,\n",
       "        0.285 ,  0.2848,  0.2847,  0.2846,  0.2845,  0.2844,  0.2844,\n",
       "        0.2843,  0.2843,  0.2843,  0.2843,  0.2843,  0.2843,  0.2843,\n",
       "        0.2844,  0.2844,  0.2844,  0.2845,  0.2845,  0.2846,  0.2846,\n",
       "        0.2847,  0.2847,  0.2847,  0.2847,  0.2847,  0.2847,  0.2847,\n",
       "        0.2847,  0.2847,  0.2847,  0.2847,  0.2847,  0.2846,  0.2846,\n",
       "        0.2846,  0.2846,  0.2845,  0.2845,  0.2845,  0.2845,  0.2845,\n",
       "        0.2845,  0.2845,  0.2845,  0.2846,  0.2846], dtype=float32)"
      ]
     },
     "execution_count": 302,
     "metadata": {},
     "output_type": "execute_result"
    }
   ],
   "source": [
    "history_np[\"cov_fro\"]"
   ]
  },
  {
   "cell_type": "code",
   "execution_count": null,
   "id": "4df86a6d",
   "metadata": {},
   "outputs": [],
   "source": []
  },
  {
   "cell_type": "code",
   "execution_count": null,
   "id": "cfa441b6",
   "metadata": {},
   "outputs": [],
   "source": []
  },
  {
   "cell_type": "code",
   "execution_count": null,
   "id": "2945e735",
   "metadata": {},
   "outputs": [],
   "source": []
  },
  {
   "cell_type": "code",
   "execution_count": null,
   "id": "2c616ae3",
   "metadata": {},
   "outputs": [],
   "source": []
  },
  {
   "cell_type": "code",
   "execution_count": null,
   "id": "d8b14c4b",
   "metadata": {},
   "outputs": [],
   "source": []
  },
  {
   "cell_type": "code",
   "execution_count": null,
   "id": "df76a1a1",
   "metadata": {},
   "outputs": [],
   "source": []
  },
  {
   "cell_type": "code",
   "execution_count": null,
   "id": "c10049f3",
   "metadata": {},
   "outputs": [],
   "source": []
  },
  {
   "cell_type": "code",
   "execution_count": null,
   "id": "c208c77f",
   "metadata": {},
   "outputs": [],
   "source": []
  },
  {
   "cell_type": "code",
   "execution_count": null,
   "id": "ae94c598",
   "metadata": {},
   "outputs": [],
   "source": []
  },
  {
   "cell_type": "code",
   "execution_count": null,
   "id": "f1442432",
   "metadata": {},
   "outputs": [],
   "source": []
  },
  {
   "cell_type": "code",
   "execution_count": null,
   "id": "4a662893",
   "metadata": {},
   "outputs": [],
   "source": []
  }
 ],
 "metadata": {
  "kernelspec": {
   "display_name": "cfm_env",
   "language": "python",
   "name": "python3"
  },
  "language_info": {
   "codemirror_mode": {
    "name": "ipython",
    "version": 3
   },
   "file_extension": ".py",
   "mimetype": "text/x-python",
   "name": "python",
   "nbconvert_exporter": "python",
   "pygments_lexer": "ipython3",
   "version": "3.13.0"
  }
 },
 "nbformat": 4,
 "nbformat_minor": 5
}

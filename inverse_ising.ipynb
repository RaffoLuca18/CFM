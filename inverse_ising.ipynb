{
 "cells": [
  {
   "cell_type": "code",
   "execution_count": 6,
   "id": "37631f1a",
   "metadata": {},
   "outputs": [],
   "source": [
    "import jax\n",
    "import jax.numpy as jnp\n",
    "import numpy as np\n",
    "import pandas as pd\n",
    "import sys\n",
    "from typing import Literal\n",
    "import optax\n",
    "from scipy.optimize import minimize"
   ]
  },
  {
   "cell_type": "code",
   "execution_count": 8,
   "id": "dbdd509b",
   "metadata": {},
   "outputs": [],
   "source": [
    "def reconstruct_all_params(samples_hist, method: Literal['RISE', 'logRISE', 'RPLE'] = 'RISE',\n",
    "                           lambda_val=0.1, symmetrize=True):\n",
    "\n",
    "    num_conf, num_col = samples_hist.shape\n",
    "    num_spins = num_col - 1\n",
    "    num_samples = jnp.sum(samples_hist[:, 0])\n",
    "    reconstruction = jnp.zeros((num_spins, num_spins))\n",
    "\n",
    "    def RISEobjective(h): return jnp.exp(-h)\n",
    "    def logRISEobjective(h): return jnp.log(jnp.sum(jnp.exp(-h)))\n",
    "    def RPLEobjective(h): return jnp.log(1 + jnp.exp(-2 * h))\n",
    "\n",
    "    if method == 'RISE':\n",
    "        obj_fun = RISEobjective\n",
    "    elif method == 'logRISE':\n",
    "        obj_fun = RISEobjective  # log will be applied outside\n",
    "    elif method == 'RPLE':\n",
    "        obj_fun = RPLEobjective\n",
    "    else:\n",
    "        raise ValueError(\"Invalid method\")\n",
    "\n",
    "    for i in range(num_spins):\n",
    "        y = samples_hist[:, 1 + i]\n",
    "        X = samples_hist[:, 1:]\n",
    "        X = X * y[:, None]\n",
    "        weights = samples_hist[:, 0] / num_samples\n",
    "\n",
    "        def loss_fn(w):\n",
    "            wx = X @ w\n",
    "            L = jnp.sum(weights * obj_fun(wx))\n",
    "            if method == \"logRISE\":\n",
    "                L = jnp.log(L)\n",
    "            l1 = lambda_val * jnp.sum(jnp.abs(jnp.delete(w, i)))  # exclude diagonal from penalty\n",
    "            return L + l1\n",
    "\n",
    "        loss_and_grad = jax.value_and_grad(loss_fn)\n",
    "        x0 = np.zeros(num_spins)\n",
    "        res = minimize(lambda w: loss_and_grad(jnp.array(w)), x0, method='L-BFGS-B', jac=True)\n",
    "        reconstruction = reconstruction.at[i, :].set(res.x)\n",
    "\n",
    "    if symmetrize:\n",
    "        reconstruction = 0.5 * (reconstruction + reconstruction.T)\n",
    "\n",
    "    return reconstruction\n"
   ]
  },
  {
   "cell_type": "code",
   "execution_count": 9,
   "id": "ceca9538",
   "metadata": {},
   "outputs": [],
   "source": [
    "d = 4\n",
    "J = jnp.array([[ 0.0,  0.8,  0.0,  0.0],\n",
    "               [ 0.8,  0.0, -0.8,  0.0],\n",
    "               [ 0.0, -0.8,  0.0,  0.8],\n",
    "               [ 0.0,  0.0,  0.8,  0.0]])\n",
    "h = jnp.array([0.2, 0.0, -0.1, 0.0])\n",
    "adj = J + jnp.diag(h)"
   ]
  },
  {
   "cell_type": "code",
   "execution_count": null,
   "id": "c469da02",
   "metadata": {},
   "outputs": [
    {
     "data": {
      "text/plain": [
       "Array([[ 472,   -1,   -1,   -1,   -1],\n",
       "       [ 101,   -1,   -1,   -1,    1],\n",
       "       [ 393,   -1,   -1,    1,   -1],\n",
       "       [2094,   -1,   -1,    1,    1],\n",
       "       [ 495,   -1,    1,   -1,   -1],\n",
       "       [  92,   -1,    1,   -1,    1],\n",
       "       [  19,   -1,    1,    1,   -1],\n",
       "       [  76,   -1,    1,    1,    1],\n",
       "       [ 149,    1,   -1,   -1,   -1],\n",
       "       [  36,    1,   -1,   -1,    1],\n",
       "       [ 119,    1,   -1,    1,   -1],\n",
       "       [ 617,    1,   -1,    1,    1],\n",
       "       [3804,    1,    1,   -1,   -1],\n",
       "       [ 752,    1,    1,   -1,    1],\n",
       "       [ 140,    1,    1,    1,   -1],\n",
       "       [ 641,    1,    1,    1,    1]], dtype=int32)"
      ]
     },
     "execution_count": 15,
     "metadata": {},
     "output_type": "execute_result"
    }
   ],
   "source": [
    "df = pd.read_csv(\"output_samples.csv\", header=None)\n",
    "\n",
    "samples_hist = jnp.array(df.values)"
   ]
  },
  {
   "cell_type": "code",
   "execution_count": 16,
   "id": "66eae373",
   "metadata": {},
   "outputs": [],
   "source": [
    "recon = reconstruct_all_params(samples_hist, method=\"RISE\", lambda_val=0.2)"
   ]
  },
  {
   "cell_type": "code",
   "execution_count": 17,
   "id": "82b2d378",
   "metadata": {},
   "outputs": [
    {
     "data": {
      "text/plain": [
       "Array([[ 1.3086606e+01, -3.6402307e-06, -2.0923433e-06,  1.7275198e-08],\n",
       "       [-3.6402307e-06,  1.4473771e+01,  7.4842372e-09, -2.8839651e-07],\n",
       "       [-2.0923433e-06,  7.4842372e-09,  1.7166050e+01,  5.3871624e-08],\n",
       "       [ 1.7275198e-08, -2.8839651e-07,  5.3871624e-08,  1.7046007e+01]],      dtype=float32)"
      ]
     },
     "execution_count": 17,
     "metadata": {},
     "output_type": "execute_result"
    }
   ],
   "source": [
    "recon"
   ]
  },
  {
   "cell_type": "code",
   "execution_count": null,
   "id": "fcb064e0",
   "metadata": {},
   "outputs": [],
   "source": []
  }
 ],
 "metadata": {
  "kernelspec": {
   "display_name": "cfm_env",
   "language": "python",
   "name": "python3"
  },
  "language_info": {
   "codemirror_mode": {
    "name": "ipython",
    "version": 3
   },
   "file_extension": ".py",
   "mimetype": "text/x-python",
   "name": "python",
   "nbconvert_exporter": "python",
   "pygments_lexer": "ipython3",
   "version": "3.13.0"
  }
 },
 "nbformat": 4,
 "nbformat_minor": 5
}

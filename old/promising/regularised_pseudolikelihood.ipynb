{
 "cells": [
  {
   "cell_type": "code",
   "execution_count": 23,
   "id": "f32e1034",
   "metadata": {},
   "outputs": [],
   "source": [
    "import sys\n",
    "import os\n",
    "sys.path.append(os.path.abspath('..'))\n",
    "\n",
    "import data_gen as dg\n",
    "import ising as isg\n",
    "\n",
    "import jax\n",
    "import jax.numpy as jnp\n",
    "import optax"
   ]
  },
  {
   "cell_type": "code",
   "execution_count": 24,
   "id": "deaf8aca",
   "metadata": {},
   "outputs": [],
   "source": [
    "def log_pseudolikelihood_site(samples, i, h, J, beta=1.0):\n",
    "\n",
    "    M = samples.shape[0]\n",
    "    mus = jnp.arange(M)\n",
    "    logps = isg.compute_logp_all_mu(mus, samples, i, h, J, beta)\n",
    "    \n",
    "    return jnp.mean(logps)"
   ]
  },
  {
   "cell_type": "code",
   "execution_count": 25,
   "id": "78d1803b",
   "metadata": {},
   "outputs": [],
   "source": [
    "def total_log_pseudolikelihood(samples, h, J, beta=1.0):\n",
    "    \n",
    "    d = samples.shape[1]\n",
    "    sites = jnp.arange(d)\n",
    "    site_logps = jax.vmap(log_pseudolikelihood_site, in_axes=(None, 0, None, None, None))(samples, sites, h, J, beta)\n",
    "\n",
    "    return jnp.sum(site_logps)"
   ]
  },
  {
   "cell_type": "code",
   "execution_count": 26,
   "id": "e694964f",
   "metadata": {},
   "outputs": [],
   "source": [
    "def pl_loss(samples, h, J, beta=1.0):\n",
    "    \n",
    "    return -total_log_pseudolikelihood(samples, h, J, beta)"
   ]
  },
  {
   "cell_type": "code",
   "execution_count": 74,
   "id": "66b0e6eb",
   "metadata": {},
   "outputs": [],
   "source": [
    "def pl_loss_reg(samples, h, J, beta=1.0, lmbda_h = 0.01, lmbda_J = 0.01):\n",
    "\n",
    "    nll = -total_log_pseudolikelihood(samples, h, J, beta)\n",
    "\n",
    "    penalty_h = lmbda_h * jnp.linalg.norm(h)\n",
    "    penalty_J = lmbda_J * jnp.linalg.norm(J)\n",
    "\n",
    "    return nll + penalty_h + penalty_J"
   ]
  },
  {
   "cell_type": "code",
   "execution_count": 45,
   "id": "a9b23a0b",
   "metadata": {},
   "outputs": [],
   "source": [
    "def pl_gradients(samples, h, J, beta):\n",
    "\n",
    "    grad_loss = jax.grad(pl_loss, argnums=(1, 2))\n",
    "\n",
    "    return grad_loss(samples, h, J, beta)"
   ]
  },
  {
   "cell_type": "code",
   "execution_count": 29,
   "id": "43c80a93",
   "metadata": {},
   "outputs": [],
   "source": [
    "def pl_gradients_reg(samples, h, J, beta):\n",
    "\n",
    "    grad_loss = jax.grad(pl_loss_reg, argnums=(1, 2))\n",
    "\n",
    "    return grad_loss(samples, h, J, beta)"
   ]
  },
  {
   "cell_type": "code",
   "execution_count": 30,
   "id": "672f6b40",
   "metadata": {},
   "outputs": [],
   "source": [
    "def pl_step(params, opt_state, samples, optimizer, beta):\n",
    "    \n",
    "    grad_h, grad_J = pl_gradients(samples, params[\"h\"], params[\"J\"], beta)\n",
    "\n",
    "    grads = {\n",
    "        \"h\": grad_h,\n",
    "        \"J\": grad_J\n",
    "    }\n",
    "\n",
    "    updates, opt_state = optimizer.update(grads, opt_state)\n",
    "    params = optax.apply_updates(params, updates)\n",
    "\n",
    "    J = params[\"J\"]\n",
    "    J = 0.5 * (J + J.T)\n",
    "    J = J - jnp.diag(J)\n",
    "    params[\"J\"] = J\n",
    "\n",
    "    return params, opt_state"
   ]
  },
  {
   "cell_type": "code",
   "execution_count": 31,
   "id": "c4348198",
   "metadata": {},
   "outputs": [],
   "source": [
    "def pl_step_reg(params, opt_state, samples, optimizer, beta):\n",
    "    \n",
    "    grad_h, grad_J = pl_gradients_reg(samples, params[\"h\"], params[\"J\"], beta)\n",
    "\n",
    "    grads = {\n",
    "        \"h\": grad_h,\n",
    "        \"J\": grad_J\n",
    "    }\n",
    "\n",
    "    updates, opt_state = optimizer.update(grads, opt_state)\n",
    "    params = optax.apply_updates(params, updates)\n",
    "\n",
    "    J = params[\"J\"]\n",
    "    J = 0.5 * (J + J.T)\n",
    "    J = J - jnp.diag(J)\n",
    "    params[\"J\"] = J\n",
    "\n",
    "    return params, opt_state"
   ]
  },
  {
   "cell_type": "code",
   "execution_count": 63,
   "id": "090d6686",
   "metadata": {},
   "outputs": [],
   "source": [
    "def optimize_pl(samples, h_init, J_init, n_steps=1000, lr=1e-2, beta=1.0):\n",
    "    \n",
    "    params = {\n",
    "        \"h\": h_init,\n",
    "        \"J\": J_init\n",
    "    }\n",
    "\n",
    "    optimizer = optax.sgd(lr)\n",
    "    opt_state = optimizer.init(params)\n",
    "\n",
    "    for t in range(n_steps):\n",
    "        params, opt_state = pl_step(params, opt_state, samples, optimizer, beta)\n",
    "\n",
    "        if t % 100 == 0:\n",
    "            loss_val = pl_loss(samples, params[\"h\"], params[\"J\"], beta)\n",
    "            print(f\"step {t} | loss = {loss_val:.6f}\")\n",
    "\n",
    "    return params[\"h\"], params[\"J\"]"
   ]
  },
  {
   "cell_type": "code",
   "execution_count": 52,
   "id": "89e44c09",
   "metadata": {},
   "outputs": [],
   "source": [
    "def optimize_pl_reg(samples, h_init, J_init, n_steps=1000, lr=1e-2, beta=1.0):\n",
    "    \n",
    "    params = {\n",
    "        \"h\": h_init,\n",
    "        \"J\": J_init\n",
    "    }\n",
    "\n",
    "    optimizer = optax.sgd(lr)\n",
    "    opt_state = optimizer.init(params)\n",
    "\n",
    "    for t in range(n_steps):\n",
    "        params, opt_state = pl_step_reg(params, opt_state, samples, optimizer, beta)\n",
    "\n",
    "        if t % 100 == 0:\n",
    "            loss_val = pl_loss_reg(samples, params[\"h\"], params[\"J\"], beta)\n",
    "            print(f\"step {t} | loss = {loss_val:.6f}\")\n",
    "\n",
    "    return params[\"h\"], params[\"J\"]"
   ]
  },
  {
   "cell_type": "code",
   "execution_count": 65,
   "id": "d2d0c2c8",
   "metadata": {},
   "outputs": [],
   "source": [
    "d = 5\n",
    "\n",
    "n_init = 100\n",
    "\n",
    "n_replicas = 500\n",
    "\n",
    "# h, J = dg.generate_ising_params(d, sigma_h=1, sigma_J=0.5, seed=0)\n",
    "h, J = dg.generate_ising_params(d, sigma_h=1, sigma_J=1, seed=0)"
   ]
  },
  {
   "cell_type": "code",
   "execution_count": 66,
   "id": "6e205cb2",
   "metadata": {},
   "outputs": [],
   "source": [
    "J = J.at[1, 0].set(0.0)\n",
    "J = J.at[0, 1].set(0.0)\n",
    "J = J.at[3, 4].set(0.0)\n",
    "J = J.at[4, 3].set(0.0)"
   ]
  },
  {
   "cell_type": "code",
   "execution_count": 67,
   "id": "76442a72",
   "metadata": {},
   "outputs": [
    {
     "name": "stdout",
     "output_type": "stream",
     "text": [
      "True h: [ 1.0040143 -0.9063372 -0.7481722 -1.1713669 -0.8712328]\n",
      "True J: [[ 0.          0.          0.01597188  0.08924049 -1.8679683 ]\n",
      " [ 0.          0.          1.2611779  -2.5008354   1.8081973 ]\n",
      " [ 0.01597188  1.2611779   0.         -0.8179495   0.95733154]\n",
      " [ 0.08924049 -2.5008354  -0.8179495   0.          0.        ]\n",
      " [-1.8679683   1.8081973   0.95733154  0.          0.        ]]\n"
     ]
    }
   ],
   "source": [
    "print(\"True h:\", h)\n",
    "print(\"True J:\", J)"
   ]
  },
  {
   "cell_type": "code",
   "execution_count": 68,
   "id": "5909f50b",
   "metadata": {},
   "outputs": [
    {
     "name": "stdout",
     "output_type": "stream",
     "text": [
      "step 0:[-0.14000000059604645, 0.04000000283122063, -0.18000000715255737, -0.1600000113248825, 0.04000000283122063]\n",
      "[0.7220000624656677, -0.5790000557899475, -0.48600003123283386, -0.8130000233650208, -0.6100000143051147]\n",
      "0.27320003509521484\n",
      "\n",
      "step 5000:[0.940000057220459, -0.940000057220459, -0.940000057220459, 0.9000000357627869, -0.940000057220459]\n",
      "[0.9930000305175781, -1.0, -0.9980000257492065, 0.9660000205039978, -1.0]\n",
      "0.011799979023635387\n",
      "\n",
      "step 10000:[0.9800000190734863, -0.9800000190734863, -0.9600000381469727, 0.9600000381469727, -0.9800000190734863]\n",
      "[0.9940000176429749, -1.0, -0.999000072479248, 0.9730000495910645, -1.0]\n",
      "0.010399997234344482\n",
      "\n"
     ]
    }
   ],
   "source": [
    "samples = dg.generate_ising_data(n_init, n_replicas, h=h, J=J, n_steps_equil=10000, n_steps_final=1000, n_prints = 5000, beta=1, seed=12)"
   ]
  },
  {
   "cell_type": "code",
   "execution_count": 75,
   "id": "54803776",
   "metadata": {},
   "outputs": [
    {
     "name": "stdout",
     "output_type": "stream",
     "text": [
      "step 0 | loss = 1.704485\n",
      "step 100 | loss = 0.159508\n",
      "step 200 | loss = 0.152929\n",
      "estimated h: [ 0.628      -0.44000003 -0.545       0.223      -0.51000005]\n",
      "estimated J: [[ 0.         -0.523      -0.45400003  0.40500003 -0.64400005]\n",
      " [-0.523       0.          0.703      -0.583       0.67800003]\n",
      " [-0.45400003  0.703       0.         -0.532       0.66      ]\n",
      " [ 0.40500003 -0.583      -0.532       0.         -0.47100002]\n",
      " [-0.64400005  0.67800003  0.66       -0.47100002  0.        ]]\n"
     ]
    }
   ],
   "source": [
    "key = jax.random.PRNGKey(0)\n",
    "\n",
    "h0 = 0.1 * jax.random.normal(key, shape=(d,))\n",
    "J0 = 0.1 * jax.random.normal(key, shape=(d, d))\n",
    "J0 = 0.5 * (J0 + J0.T)\n",
    "J0 = J0 - jnp.diag(jnp.diag(J0))\n",
    "\n",
    "h_est, J_est = optimize_pl_reg(samples, h0, J0, n_steps=300, lr=0.1, beta=1.0)\n",
    "\n",
    "print(\"estimated h:\", jnp.round(h_est, 3))\n",
    "print(\"estimated J:\", jnp.round(J_est, 3))"
   ]
  },
  {
   "cell_type": "code",
   "execution_count": 76,
   "id": "6b02a19a",
   "metadata": {},
   "outputs": [
    {
     "name": "stdout",
     "output_type": "stream",
     "text": [
      "step 0 | loss = 1.709411\n",
      "step 100 | loss = 0.123135\n",
      "step 200 | loss = 0.111475\n",
      "estimated h: [ 0.68500006 -0.551      -0.66300005  0.14400001 -0.51900005]\n",
      "estimated J: [[ 0.         -0.69600004 -0.61700004  0.49800003 -0.716     ]\n",
      " [-0.69600004  0.          0.72300005 -0.43800002  0.762     ]\n",
      " [-0.61700004  0.72300005  0.         -0.441       0.74500006]\n",
      " [ 0.49800003 -0.43800002 -0.441       0.         -0.46100003]\n",
      " [-0.716       0.762       0.74500006 -0.46100003  0.        ]]\n"
     ]
    }
   ],
   "source": [
    "key = jax.random.PRNGKey(0)\n",
    "\n",
    "h0 = 0.1 * jax.random.normal(key, shape=(d,))\n",
    "J0 = 0.1 * jax.random.normal(key, shape=(d, d))\n",
    "J0 = 0.5 * (J0 + J0.T)\n",
    "J0 = J0 - jnp.diag(jnp.diag(J0))\n",
    "\n",
    "h_est, J_est = optimize_pl(samples[0:50], h0, J0, n_steps=300, lr=0.1, beta=1.0)\n",
    "\n",
    "print(\"estimated h:\", jnp.round(h_est, 3))\n",
    "print(\"estimated J:\", jnp.round(J_est, 3))"
   ]
  },
  {
   "cell_type": "code",
   "execution_count": null,
   "id": "6a4248d1",
   "metadata": {},
   "outputs": [],
   "source": []
  },
  {
   "cell_type": "code",
   "execution_count": null,
   "id": "eb2e5ac5",
   "metadata": {},
   "outputs": [],
   "source": []
  }
 ],
 "metadata": {
  "kernelspec": {
   "display_name": "cfm_env",
   "language": "python",
   "name": "python3"
  },
  "language_info": {
   "codemirror_mode": {
    "name": "ipython",
    "version": 3
   },
   "file_extension": ".py",
   "mimetype": "text/x-python",
   "name": "python",
   "nbconvert_exporter": "python",
   "pygments_lexer": "ipython3",
   "version": "3.13.0"
  }
 },
 "nbformat": 4,
 "nbformat_minor": 5
}

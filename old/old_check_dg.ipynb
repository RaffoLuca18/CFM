{
 "cells": [
  {
   "cell_type": "code",
   "execution_count": 1,
   "id": "0fadfbbf",
   "metadata": {},
   "outputs": [],
   "source": [
    "import sys\n",
    "import os\n",
    "sys.path.append(os.path.abspath('..'))\n",
    "\n",
    "import data_gen as dg\n",
    "import ising as isg\n",
    "\n",
    "import jax\n",
    "import jax.numpy as jnp\n",
    "import optax"
   ]
  },
  {
   "cell_type": "code",
   "execution_count": 8,
   "id": "5d006e74",
   "metadata": {},
   "outputs": [],
   "source": [
    "d = 5\n",
    "\n",
    "n_init = 10\n",
    "\n",
    "n_replicas = 5\n",
    "\n",
    "h, J = dg.generate_ising_params(d, sigma_h=0.1, sigma_J=0.1, mean_h=0, mean_J=0, seed=0)"
   ]
  },
  {
   "cell_type": "code",
   "execution_count": 23,
   "id": "5c4d867e",
   "metadata": {},
   "outputs": [
    {
     "name": "stdout",
     "output_type": "stream",
     "text": [
      "step 0:[-0.4000000059604645, -0.20000000298023224, -0.20000000298023224, 0.4000000059604645, 0.4000000059604645]\n",
      "[0.18400001525878906, -0.030000001192092896, -0.18800000846385956, -0.1980000138282776, -0.22300000488758087]\n",
      "0.0910000130534172\n",
      "\n",
      "step 5000:[0.4000000059604645, -0.4000000059604645, -0.20000000298023224, 0.4000000059604645, -0.20000000298023224]\n",
      "[0.492000013589859, -0.6420000195503235, -0.33900001645088196, 0.05100000277161598, -0.5360000133514404]\n",
      "0.19480000436306\n",
      "\n",
      "step 10000:[0.4000000059604645, 0.0, -0.6000000238418579, -0.20000000298023224, -0.6000000238418579]\n",
      "[0.3960000276565552, -0.609000027179718, -0.22700001299381256, 0.009000000543892384, -0.37400001287460327]\n",
      "0.039000000804662704\n",
      "\n"
     ]
    }
   ],
   "source": [
    "samples = dg.generate_ising_data(\n",
    "    n_init=n_init,\n",
    "    n_replicas = n_replicas,\n",
    "    h=h,\n",
    "    J=J,\n",
    "    n_steps_equil=10000,\n",
    "    n_steps_final=500,\n",
    "    n_prints=5000,\n",
    "    beta=2.0,\n",
    "    seed=123\n",
    ")"
   ]
  },
  {
   "cell_type": "code",
   "execution_count": 24,
   "id": "0ae016fb",
   "metadata": {},
   "outputs": [],
   "source": [
    "import numpy as np\n",
    "\n",
    "unique = []\n",
    "counts = []\n",
    "\n",
    "for i in range(len(samples)):\n",
    "    found = False\n",
    "    for j in range(len(unique)):\n",
    "        if np.array_equal(samples[i], unique[j]):\n",
    "            counts[j] += 1\n",
    "            found = True\n",
    "            break\n",
    "    if not found:\n",
    "        unique.append(samples[i])\n",
    "        counts.append(1)"
   ]
  },
  {
   "cell_type": "code",
   "execution_count": 25,
   "id": "8d99724e",
   "metadata": {},
   "outputs": [
    {
     "name": "stdout",
     "output_type": "stream",
     "text": [
      "[ 1 -1  1 -1 -1] 2\n",
      "[ 1 -1 -1  1 -1] 18\n",
      "[ 1  1  1 -1 -1] 1\n",
      "[-1 -1 -1  1 -1] 3\n",
      "[ 1 -1  1  1  1] 1\n",
      "[-1  1  1 -1  1] 4\n",
      "[ 1 -1 -1 -1 -1] 6\n",
      "[-1 -1 -1  1  1] 1\n",
      "[-1  1  1 -1 -1] 2\n",
      "[1 1 1 1 1] 1\n",
      "[-1 -1 -1 -1  1] 1\n",
      "[-1  1 -1 -1  1] 3\n",
      "[ 1 -1  1  1 -1] 4\n",
      "[ 1 -1 -1  1  1] 1\n",
      "[-1 -1  1  1 -1] 1\n",
      "[ 1 -1 -1 -1  1] 1\n"
     ]
    }
   ],
   "source": [
    "for i in range(len(unique)):\n",
    "    print(unique[i], counts[i])"
   ]
  },
  {
   "cell_type": "code",
   "execution_count": 18,
   "id": "9a187dd5",
   "metadata": {},
   "outputs": [
    {
     "data": {
      "text/plain": [
       "Array([ 0.10040142, -0.09063372, -0.07481723, -0.11713669, -0.08712328],      dtype=float32)"
      ]
     },
     "execution_count": 18,
     "metadata": {},
     "output_type": "execute_result"
    }
   ],
   "source": [
    "h"
   ]
  },
  {
   "cell_type": "code",
   "execution_count": 19,
   "id": "a4e7246c",
   "metadata": {},
   "outputs": [
    {
     "data": {
      "text/plain": [
       "Array([[ 0.        , -0.32142323,  0.00159719,  0.00892405, -0.18679683],\n",
       "       [-0.32142323,  0.        ,  0.1261178 , -0.25008357,  0.18081972],\n",
       "       [ 0.00159719,  0.1261178 ,  0.        , -0.08179495,  0.09573315],\n",
       "       [ 0.00892405, -0.25008357, -0.08179495,  0.        , -0.1146527 ],\n",
       "       [-0.18679683,  0.18081972,  0.09573315, -0.1146527 ,  0.        ]],      dtype=float32)"
      ]
     },
     "execution_count": 19,
     "metadata": {},
     "output_type": "execute_result"
    }
   ],
   "source": [
    "J"
   ]
  },
  {
   "cell_type": "code",
   "execution_count": null,
   "id": "ce9d8ecf",
   "metadata": {},
   "outputs": [],
   "source": []
  }
 ],
 "metadata": {
  "kernelspec": {
   "display_name": "cfm_env",
   "language": "python",
   "name": "python3"
  },
  "language_info": {
   "codemirror_mode": {
    "name": "ipython",
    "version": 3
   },
   "file_extension": ".py",
   "mimetype": "text/x-python",
   "name": "python",
   "nbconvert_exporter": "python",
   "pygments_lexer": "ipython3",
   "version": "3.13.0"
  }
 },
 "nbformat": 4,
 "nbformat_minor": 5
}

{
 "cells": [
  {
   "cell_type": "code",
   "execution_count": 36,
   "id": "d9dee87c",
   "metadata": {},
   "outputs": [],
   "source": [
    "import sys\n",
    "import os\n",
    "sys.path.append(os.path.abspath('..'))\n",
    "\n",
    "import data_gen as dg\n",
    "import ising as isg\n",
    "\n",
    "import jax\n",
    "import jax.numpy as jnp\n",
    "import optax"
   ]
  },
  {
   "cell_type": "code",
   "execution_count": 37,
   "id": "a810f937",
   "metadata": {},
   "outputs": [],
   "source": [
    "def sm_loss(params, samples):\n",
    "\n",
    "    mu = params[\"mu\"]\n",
    "    L = params[\"L\"]\n",
    "    Lambda = L @ L.T\n",
    "\n",
    "    centered = samples - mu\n",
    "    Lambda2 = Lambda @ Lambda\n",
    "    quad_terms = jnp.sum((centered @ Lambda2) * centered, axis=1)\n",
    "\n",
    "    loss = 0.5 * jnp.mean(quad_terms) - jnp.trace(Lambda)\n",
    "    \n",
    "    return loss"
   ]
  },
  {
   "cell_type": "code",
   "execution_count": 38,
   "id": "7bbf9ccb",
   "metadata": {},
   "outputs": [],
   "source": [
    "def optimize_score_matching(samples, n_steps=1000, lr=1e-2, seed=0):\n",
    "\n",
    "    d = samples.shape[1]\n",
    "    key = jax.random.PRNGKey(seed)\n",
    "    key_mu, key_L = jax.random.split(key)\n",
    "\n",
    "    mu_init = jax.random.normal(key_mu, shape=(d,))\n",
    "    L_init = jnp.eye(d) + 0.01 * jax.random.normal(key_L, shape=(d, d))\n",
    "\n",
    "    L_init = jnp.tril(L_init)\n",
    "\n",
    "    params = {\"mu\": mu_init, \"L\": L_init}\n",
    "    optimizer = optax.adam(lr)\n",
    "    opt_state = optimizer.init(params)\n",
    "\n",
    "    loss_grad_fn = jax.value_and_grad(sm_loss)\n",
    "\n",
    "    for step in range(n_steps):\n",
    "        loss_val, grads = loss_grad_fn(params, samples)\n",
    "        updates, opt_state = optimizer.update(grads, opt_state)\n",
    "        params = optax.apply_updates(params, updates)\n",
    "\n",
    "        params[\"L\"] = jnp.tril(params[\"L\"])\n",
    "\n",
    "        if step % 20 == 0:\n",
    "            print(f\"Step {step:4d} | Loss: {loss_val:.6f}\")\n",
    "\n",
    "    return params"
   ]
  },
  {
   "cell_type": "code",
   "execution_count": 39,
   "id": "9771503f",
   "metadata": {},
   "outputs": [
    {
     "name": "stdout",
     "output_type": "stream",
     "text": [
      "Step    0 | Loss: 0.040803\n",
      "Step   20 | Loss: -2.703758\n",
      "Step   40 | Loss: -3.844007\n",
      "Step   60 | Loss: -5.027158\n",
      "Step   80 | Loss: -6.266546\n",
      "Step  100 | Loss: -7.700078\n",
      "Step  120 | Loss: -9.402672\n",
      "Step  140 | Loss: -11.275608\n",
      "Step  160 | Loss: -13.190903\n",
      "Step  180 | Loss: -15.032191\n",
      "Step  200 | Loss: -16.705515\n",
      "Step  220 | Loss: -18.142570\n",
      "Step  240 | Loss: -19.304667\n",
      "Step  260 | Loss: -20.190701\n",
      "Step  280 | Loss: -20.818161\n",
      "Step  300 | Loss: -21.236916\n",
      "Step  320 | Loss: -21.493399\n",
      "Step  340 | Loss: -21.641241\n",
      "Step  360 | Loss: -21.720255\n",
      "Step  380 | Loss: -21.760279\n",
      "Step  400 | Loss: -21.779266\n",
      "Step  420 | Loss: -21.787777\n",
      "Step  440 | Loss: -21.791601\n",
      "Step  460 | Loss: -21.788071\n",
      "Step  480 | Loss: -21.793234\n",
      "Step  500 | Loss: -21.794003\n",
      "Step  520 | Loss: -21.794117\n",
      "Step  540 | Loss: -21.794119\n",
      "Step  560 | Loss: -21.794109\n",
      "Step  580 | Loss: -21.794090\n",
      "Step  600 | Loss: -21.794107\n",
      "Step  620 | Loss: -21.791725\n",
      "Step  640 | Loss: -21.793653\n",
      "Step  660 | Loss: -21.794104\n",
      "Step  680 | Loss: -21.794098\n",
      "Step  700 | Loss: -21.794115\n",
      "Step  720 | Loss: -21.794075\n",
      "Step  740 | Loss: -21.794115\n",
      "Step  760 | Loss: -21.794203\n",
      "Step  780 | Loss: -21.793894\n",
      "Step  800 | Loss: -21.792650\n",
      "Step  820 | Loss: -21.793947\n",
      "Step  840 | Loss: -21.794100\n",
      "Step  860 | Loss: -21.794094\n",
      "Step  880 | Loss: -21.794107\n",
      "Step  900 | Loss: -21.794014\n",
      "Step  920 | Loss: -21.794186\n",
      "Step  940 | Loss: -21.794125\n",
      "Step  960 | Loss: -21.794098\n",
      "Step  980 | Loss: -21.792929\n"
     ]
    }
   ],
   "source": [
    "mu, cov = dg.generate_gaussian_params(d=5, sigma_mu=0.1, sigma_cov=0.2, seed=0)\n",
    "mu = mu*10\n",
    "cov = cov*10\n",
    "samples = dg.generate_gaussian_data(mu, cov, n_samples=10, seed=90)\n",
    "\n",
    "params_hat = optimize_score_matching(samples, n_steps=1000, lr=1e-2)\n",
    "\n",
    "mu_hat = params_hat[\"mu\"]\n",
    "precision_hat = params_hat[\"L\"] @ params_hat[\"L\"].T\n",
    "cov_hat = jnp.linalg.inv(precision_hat)"
   ]
  },
  {
   "cell_type": "code",
   "execution_count": 40,
   "id": "1dd1e714",
   "metadata": {},
   "outputs": [
    {
     "name": "stdout",
     "output_type": "stream",
     "text": [
      "[ 1.004  -0.9063 -0.7482 -1.1714 -0.8712] \n",
      "\n",
      " [ 0.6351 -0.1987 -0.5707 -1.265  -1.4019] 0.9790969 \n",
      "\n",
      "\n",
      "\n",
      "[[ 4.443   1.6469 -0.4872  1.2632  1.6904]\n",
      " [ 1.6469  3.7204 -0.4334 -0.8381 -0.5858]\n",
      " [-0.4872 -0.4334  1.4431  0.122  -0.803 ]\n",
      " [ 1.2632 -0.8381  0.122   2.6474  0.5179]\n",
      " [ 1.6904 -0.5858 -0.803   0.5179  2.1397]] \n",
      "\n",
      " [[ 3.7927  1.3043  0.1804  2.3854  1.4806]\n",
      " [ 1.3043  1.2011  0.2075  0.3584  0.2086]\n",
      " [ 0.1804  0.2075  0.5738  0.1043 -0.3786]\n",
      " [ 2.3854  0.3584  0.1043  2.908   0.8019]\n",
      " [ 1.4806  0.2086 -0.3786  0.8019  1.0992]] 4.228209 \n",
      "\n",
      "\n",
      "\n"
     ]
    }
   ],
   "source": [
    "jnp.set_printoptions(precision=4, suppress=True)\n",
    "\n",
    "print(jnp.round(mu, 4), \"\\n\\n\", jnp.round(mu_hat, 4), jnp.linalg.norm(mu - mu_hat), \"\\n\\n\\n\")\n",
    "print(jnp.round(cov, 4), \"\\n\\n\", jnp.round(cov_hat, 4), jnp.linalg.norm(cov - cov_hat), \"\\n\\n\\n\")"
   ]
  },
  {
   "cell_type": "code",
   "execution_count": null,
   "id": "3cea32a3",
   "metadata": {},
   "outputs": [],
   "source": []
  }
 ],
 "metadata": {
  "kernelspec": {
   "display_name": "cfm_env",
   "language": "python",
   "name": "python3"
  },
  "language_info": {
   "codemirror_mode": {
    "name": "ipython",
    "version": 3
   },
   "file_extension": ".py",
   "mimetype": "text/x-python",
   "name": "python",
   "nbconvert_exporter": "python",
   "pygments_lexer": "ipython3",
   "version": "3.13.0"
  }
 },
 "nbformat": 4,
 "nbformat_minor": 5
}

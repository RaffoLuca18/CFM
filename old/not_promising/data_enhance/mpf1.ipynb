{
 "cells": [
  {
   "cell_type": "code",
   "execution_count": 41,
   "id": "28e13237",
   "metadata": {},
   "outputs": [],
   "source": [
    "import sys\n",
    "import os\n",
    "sys.path.append(os.path.abspath('..'))\n",
    "\n",
    "import data_gen as dg\n",
    "import ising as isg\n",
    "\n",
    "import jax\n",
    "import jax.numpy as jnp\n",
    "import optax"
   ]
  },
  {
   "cell_type": "code",
   "execution_count": 42,
   "id": "aca00f10",
   "metadata": {},
   "outputs": [],
   "source": [
    "def mpf_loss_per_sample(sigma, h, J, beta):\n",
    "\n",
    "    delta_e = isg.flips_energy_diff(sigma, h, J, beta)\n",
    "    \n",
    "    return jnp.sum(jnp.exp(-0.5 * delta_e))"
   ]
  },
  {
   "cell_type": "code",
   "execution_count": 43,
   "id": "80fab27c",
   "metadata": {},
   "outputs": [],
   "source": [
    "def mpf_loss(samples, h, J, beta):\n",
    "\n",
    "    return jnp.mean(jax.vmap(mpf_loss_per_sample, in_axes=(0, None, None, None))(samples, h, J, beta))"
   ]
  },
  {
   "cell_type": "code",
   "execution_count": 44,
   "id": "3a021b6e",
   "metadata": {},
   "outputs": [],
   "source": [
    "def mpf_gradients(samples, h, J, beta):\n",
    "\n",
    "    grad_loss = jax.grad(mpf_loss, argnums=(1, 2))\n",
    "    \n",
    "    return grad_loss(samples, h, J, beta)"
   ]
  },
  {
   "cell_type": "code",
   "execution_count": 45,
   "id": "261bf6ec",
   "metadata": {},
   "outputs": [],
   "source": [
    "def mpf_step(params, opt_state, samples, optimizer, beta):\n",
    "    \n",
    "    grad_h, grad_J = mpf_gradients(samples, params[\"h\"], params[\"J\"], beta)\n",
    "\n",
    "    grads = {\n",
    "        \"h\": grad_h,\n",
    "        \"J\": grad_J\n",
    "    }\n",
    "\n",
    "    updates, opt_state = optimizer.update(grads, opt_state)\n",
    "    params = optax.apply_updates(params, updates)\n",
    "\n",
    "    J = params[\"J\"]\n",
    "    J = 0.5 * (J + J.T)\n",
    "    J = J - jnp.diag(J)\n",
    "    params[\"J\"] = J\n",
    "\n",
    "    return params, opt_state"
   ]
  },
  {
   "cell_type": "code",
   "execution_count": 74,
   "id": "a4699028",
   "metadata": {},
   "outputs": [],
   "source": [
    "def optimize_mpf_enhanced(samples, h_init, J_init, n_steps=1000, lr=1e-2,\n",
    "                          beta=1.0, delta=1e-2, n_enhance=401, seed=0):\n",
    "    key = jax.random.PRNGKey(seed)\n",
    "    key_enhance = key\n",
    "\n",
    "    params = {\n",
    "        \"h\": h_init,\n",
    "        \"J\": J_init\n",
    "    }\n",
    "\n",
    "    optimizer = optax.adam(lr)\n",
    "    opt_state = optimizer.init(params)\n",
    "\n",
    "    prev_params = params\n",
    "    last_enhance_step = 0\n",
    "    counter = 1\n",
    "\n",
    "    for step in range(n_steps):\n",
    "        params, opt_state = mpf_step(params, opt_state, samples, optimizer, beta)\n",
    "\n",
    "        if step % 100 == 0:\n",
    "            loss_val = mpf_loss(samples, params[\"h\"], params[\"J\"], beta)\n",
    "            print(f\"Step {step:4d} | Loss: {loss_val:.6f}\")\n",
    "\n",
    "        delta_h = jnp.linalg.norm(params[\"h\"] - prev_params[\"h\"])\n",
    "        delta_J = jnp.linalg.norm(params[\"J\"] - prev_params[\"J\"])\n",
    "        delta_theta = jnp.sqrt(delta_h**2 + delta_J**2)\n",
    "\n",
    "        if delta_theta < delta and (step - last_enhance_step) >= n_enhance and counter < 7:\n",
    "            key_enhance, subkey = jax.random.split(key_enhance)\n",
    "            keys = jax.random.split(subkey, samples.shape[0])\n",
    "            new_samples = dg.apply_glauber_to_all(keys, samples, params[\"h\"], params[\"J\"], beta)\n",
    "            samples = jnp.concatenate([samples, new_samples], axis=0)\n",
    "            last_enhance_step = step\n",
    "            print(f\" ↳ Enhanced at step {step}, Δθ = {delta_theta:.2e}, total samples = {samples.shape[0]}\")\n",
    "            counter += 1\n",
    "\n",
    "        prev_params = params\n",
    "\n",
    "    return params[\"h\"], params[\"J\"]\n"
   ]
  },
  {
   "cell_type": "code",
   "execution_count": 47,
   "id": "28d96297",
   "metadata": {},
   "outputs": [
    {
     "name": "stdout",
     "output_type": "stream",
     "text": [
      "step 0:[-0.10000000149011612, 0.020000001415610313, -0.24000000953674316, -0.2600000202655792, 0.020000001415610313]\n",
      "[0.7350000143051147, -0.503000020980835, -0.5509999990463257, -0.8060000538825989, -0.6200000047683716]\n",
      "0.2369999885559082\n",
      "\n",
      "step 5000:[0.9800000190734863, -0.9800000190734863, -0.9800000190734863, 0.7200000286102295, -0.9800000190734863]\n",
      "[0.9980000257492065, -1.0, -0.9720000624656677, 0.7860000133514404, -0.9980000257492065]\n",
      "0.010799991898238659\n",
      "\n",
      "step 10000:[0.9600000381469727, -0.9600000381469727, -0.8800000548362732, 0.7000000476837158, -0.9600000381469727]\n",
      "[0.9980000257492065, -1.0, -0.9700000286102295, 0.7540000081062317, -0.9980000257492065]\n",
      "0.0151999955996871\n",
      "\n"
     ]
    }
   ],
   "source": [
    "d = 5\n",
    "\n",
    "n_init = 100\n",
    "\n",
    "n_replicas = 500\n",
    "\n",
    "h, J = dg.generate_ising_params(d, sigma_h=1, sigma_J=0.5, seed=0)\n",
    "\n",
    "samples = dg.generate_ising_data(n_init, n_replicas, h=h, J=J, n_steps_equil=10000, n_steps_final=1000, n_prints = 5000, beta=1, seed=12)"
   ]
  },
  {
   "cell_type": "code",
   "execution_count": 48,
   "id": "c77edf99",
   "metadata": {},
   "outputs": [
    {
     "name": "stdout",
     "output_type": "stream",
     "text": [
      "true h: [ 1.0040143 -0.9063372 -0.7481722 -1.1713669 -0.8712328]\n",
      "true J: [[ 0.         -1.6071162   0.00798594  0.04462025 -0.93398416]\n",
      " [-1.6071162   0.          0.63058895 -1.2504177   0.90409863]\n",
      " [ 0.00798594  0.63058895  0.         -0.40897474  0.47866577]\n",
      " [ 0.04462025 -1.2504177  -0.40897474  0.         -0.5732635 ]\n",
      " [-0.93398416  0.90409863  0.47866577 -0.5732635   0.        ]]\n"
     ]
    }
   ],
   "source": [
    "print(\"true h:\", h)\n",
    "print(\"true J:\", J)"
   ]
  },
  {
   "cell_type": "code",
   "execution_count": 77,
   "id": "45dfbb84",
   "metadata": {},
   "outputs": [
    {
     "name": "stdout",
     "output_type": "stream",
     "text": [
      "Step    0 | Loss: 3.263413\n",
      "Step  100 | Loss: 0.550793\n",
      "Step  200 | Loss: 0.547042\n",
      "Step  300 | Loss: 0.545379\n",
      "Step  400 | Loss: 0.544514\n",
      " ↳ Enhanced at step 401, Δθ = 3.32e-03, total samples = 100\n",
      "Step  500 | Loss: 0.476344\n",
      "Step  600 | Loss: 0.476037\n",
      "Step  700 | Loss: 0.475825\n",
      "Step  800 | Loss: 0.475671\n",
      " ↳ Enhanced at step 802, Δθ = 1.87e-03, total samples = 200\n",
      "Step  900 | Loss: 0.493641\n"
     ]
    }
   ],
   "source": [
    "key = jax.random.PRNGKey(0)\n",
    "\n",
    "h0 = 0.1 * jax.random.normal(key, shape=(d,))\n",
    "J0 = 0.1 * jax.random.normal(key, shape=(d, d))\n",
    "J0 = 0.5 * (J0 + J0.T)\n",
    "J0 = J0 - jnp.diag(jnp.diag(J0))\n",
    "\n",
    "h_est, J_est = optimize_mpf_enhanced(samples[850: 900], h0, J0, n_steps=1000, lr=0.1, beta=1.0)"
   ]
  },
  {
   "cell_type": "code",
   "execution_count": 78,
   "id": "085a3765",
   "metadata": {},
   "outputs": [
    {
     "name": "stdout",
     "output_type": "stream",
     "text": [
      "estimated h: [ 2.364     -1.9110001 -2.1950002 -0.512     -2.19     ]\n",
      "estimated J: [[ 0.         -2.094      -2.0860002   0.41500002 -2.289     ]\n",
      " [-2.094       0.          2.0570002  -0.58400005  2.187     ]\n",
      " [-2.0860002   2.0570002   0.         -0.469       2.242     ]\n",
      " [ 0.41500002 -0.58400005 -0.469       0.         -0.37800002]\n",
      " [-2.289       2.187       2.242      -0.37800002  0.        ]]\n",
      "\n",
      "\n",
      "\n",
      "loss h: 2.669647 loss J: 5.267195\n"
     ]
    }
   ],
   "source": [
    "print(\"estimated h:\", jnp.round(h_est, 3))\n",
    "print(\"estimated J:\", jnp.round(J_est, 3))\n",
    "print(\"\\n\\n\")\n",
    "print(\"loss h:\", jnp.linalg.norm(h - h_est), \"loss J:\", jnp.linalg.norm(J - J_est))"
   ]
  },
  {
   "cell_type": "code",
   "execution_count": null,
   "id": "66afe5df",
   "metadata": {},
   "outputs": [],
   "source": []
  }
 ],
 "metadata": {
  "kernelspec": {
   "display_name": "cfm_env",
   "language": "python",
   "name": "python3"
  },
  "language_info": {
   "codemirror_mode": {
    "name": "ipython",
    "version": 3
   },
   "file_extension": ".py",
   "mimetype": "text/x-python",
   "name": "python",
   "nbconvert_exporter": "python",
   "pygments_lexer": "ipython3",
   "version": "3.13.0"
  }
 },
 "nbformat": 4,
 "nbformat_minor": 5
}

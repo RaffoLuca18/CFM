{
 "cells": [
  {
   "cell_type": "code",
   "execution_count": 45,
   "id": "5b78b4b0",
   "metadata": {},
   "outputs": [],
   "source": [
    "import sys\n",
    "import os\n",
    "sys.path.append(os.path.abspath('..'))\n",
    "\n",
    "import data_gen as dg\n",
    "import ising as isg\n",
    "\n",
    "import jax\n",
    "import jax.numpy as jnp\n",
    "import optax"
   ]
  },
  {
   "cell_type": "code",
   "execution_count": 46,
   "id": "e90f02e4",
   "metadata": {},
   "outputs": [],
   "source": [
    "def grad_log_gaussian(x, mu, L):\n",
    "\n",
    "    cov = L @ L.T\n",
    "    delta = x - mu\n",
    "    \n",
    "    return -jnp.linalg.solve(cov, delta)"
   ]
  },
  {
   "cell_type": "code",
   "execution_count": 47,
   "id": "2f661c9c",
   "metadata": {},
   "outputs": [],
   "source": [
    "def langevin_step(x, key, mu, L, step_size=1e-1):\n",
    "\n",
    "    noise = jax.random.normal(key, shape=x.shape)\n",
    "    grad = grad_log_gaussian(x, mu, L)\n",
    "    \n",
    "    return x + step_size * grad + jnp.sqrt(2 * step_size) * noise"
   ]
  },
  {
   "cell_type": "code",
   "execution_count": 48,
   "id": "d4fa575e",
   "metadata": {},
   "outputs": [],
   "source": [
    "def evolve_one_sample(x, keys_i, mu, L, step_size, n_steps):\n",
    "\n",
    "    for t in range(n_steps):\n",
    "        x = langevin_step(x, keys_i[t], mu, L, step_size)\n",
    "\n",
    "    return x"
   ]
  },
  {
   "cell_type": "code",
   "execution_count": 49,
   "id": "d0b61ffc",
   "metadata": {},
   "outputs": [],
   "source": [
    "def evolve_samples(params, samples, n_evolution=1, step_size=1e-1, seed=0):\n",
    "\n",
    "    mu = params[\"mu\"]\n",
    "    L = params[\"L\"]\n",
    "    n_samples, d = samples.shape\n",
    "\n",
    "    key = jax.random.PRNGKey(seed)\n",
    "    keys = jax.random.split(key, n_samples * n_evolution).reshape((n_samples, n_evolution, 2))\n",
    "\n",
    "    new_samples = []\n",
    "    for i in range(n_samples):\n",
    "        x_i = samples[i]\n",
    "        keys_i = keys[i]\n",
    "        x_new = evolve_one_sample(x_i, keys_i, mu, L, step_size, n_evolution)\n",
    "        new_samples.append(x_new)\n",
    "\n",
    "    return jnp.stack(new_samples)"
   ]
  },
  {
   "cell_type": "code",
   "execution_count": 50,
   "id": "c62f0469",
   "metadata": {},
   "outputs": [],
   "source": [
    "def rbf_kernel(first_entry, second_entry, sigma=1.0):\n",
    "\n",
    "    diff = second_entry - first_entry\n",
    "    \n",
    "    return jnp.exp(-jnp.linalg.norm(diff)/(sigma**2))"
   ]
  },
  {
   "cell_type": "code",
   "execution_count": 51,
   "id": "d2c40037",
   "metadata": {},
   "outputs": [],
   "source": [
    "def compute_term(samples_1, samples_2, sigma = 1.0):\n",
    "\n",
    "    n_samples = len(samples_1)\n",
    "\n",
    "    s = 0\n",
    "\n",
    "    for i in range(n_samples):\n",
    "        for j in range(n_samples):\n",
    "            s += rbf_kernel(samples_1[i], samples_2[j], sigma)\n",
    "        \n",
    "    return s"
   ]
  },
  {
   "cell_type": "code",
   "execution_count": 52,
   "id": "4d1904f9",
   "metadata": {},
   "outputs": [],
   "source": [
    "def mmd_loss(samples, evolved_samples, sigma = 1.0):\n",
    "\n",
    "    k_xx = compute_term(samples, samples, sigma)\n",
    "    k_yy = compute_term(evolved_samples, evolved_samples, sigma)\n",
    "    k_xy = compute_term(samples, evolved_samples, sigma)\n",
    "\n",
    "    n_data = len(samples)\n",
    "\n",
    "    mmd = (1/(n_data**2)) * (k_xx + k_yy - 2 * k_xy)\n",
    "    print(mmd)\n",
    "\n",
    "    return mmd"
   ]
  },
  {
   "cell_type": "code",
   "execution_count": 53,
   "id": "8062df02",
   "metadata": {},
   "outputs": [],
   "source": [
    "def langevin_matching_loss(params, samples):\n",
    "\n",
    "    evolved_samples = evolve_samples(params, samples)\n",
    "    loss = mmd_loss(samples, evolved_samples)\n",
    "    \n",
    "    return loss"
   ]
  },
  {
   "cell_type": "code",
   "execution_count": null,
   "id": "0ac54885",
   "metadata": {},
   "outputs": [],
   "source": [
    "def optimize_langevin_matching(samples, n_steps=1000, lr=1e-2, seed=0):\n",
    "\n",
    "    d = samples.shape[1]\n",
    "    key = jax.random.PRNGKey(seed)\n",
    "    key_mu, key_L = jax.random.split(key)\n",
    "\n",
    "    mu_init = jax.random.normal(key_mu, shape=(d,))\n",
    "    L_init = jnp.eye(d) + 0.01 * jax.random.normal(key_L, shape=(d, d))\n",
    "\n",
    "    L_init = jnp.tril(L_init)\n",
    "\n",
    "    params = {\"mu\": mu_init, \"L\": L_init}\n",
    "    optimizer = optax.adam(lr)\n",
    "    opt_state = optimizer.init(params)\n",
    "\n",
    "    loss_grad_fn = jax.value_and_grad(langevin_matching_loss)\n",
    "\n",
    "    for step in range(n_steps):\n",
    "        loss_val, grads = loss_grad_fn(params, samples)\n",
    "        updates, opt_state = optimizer.update(grads, opt_state)\n",
    "        params = optax.apply_updates(params, updates)\n",
    "\n",
    "        params[\"L\"] = jnp.tril(params[\"L\"])\n",
    "\n",
    "        if step % 2 == 0:\n",
    "            print(f\"Step {step:4d} | Loss: {loss_val:.6f}\")\n",
    "\n",
    "    return params"
   ]
  },
  {
   "cell_type": "code",
   "execution_count": null,
   "id": "cd60f1ef",
   "metadata": {},
   "outputs": [
    {
     "name": "stdout",
     "output_type": "stream",
     "text": [
      "Traced<float32[]>with<JVPTrace> with\n",
      "  primal = Array(0.03633267, dtype=float32)\n",
      "  tangent = Traced<float32[]>with<JaxprTrace> with\n",
      "    pval = (ShapedArray(float32[]), None)\n",
      "    recipe = JaxprEqnRecipe(eqn_id=60658, in_tracers=(Traced<float32[]:JaxprTrace>, Traced<float32[]:JaxprTrace>), out_tracer_refs=[<weakref at 0x31ef54590; to 'jax._src.interpreters.partial_eval.JaxprTracer' at 0x31ef54550>], out_avals=[ShapedArray(float32[])], primitive=pjit, params={'jaxpr': { \u001b[34;1mlambda \u001b[39;22m; a\u001b[35m:f32[]\u001b[39m b\u001b[35m:f32[]\u001b[39m. \u001b[34;1mlet\u001b[39;22m c\u001b[35m:f32[]\u001b[39m = mul b a \u001b[34;1min \u001b[39;22m(c,) }, 'in_shardings': (UnspecifiedValue, UnspecifiedValue), 'in_layouts': (None, None), 'out_shardings': (UnspecifiedValue,), 'out_layouts': (None,), 'donated_invars': (False, False), 'ctx_mesh': None, 'name': 'multiply', 'keep_unused': False, 'inline': True, 'compiler_options_kvs': ()}, effects=set(), source_info=<jax._src.source_info_util.SourceInfo object at 0x31ef49bd0>, ctx=JaxprEqnContext(compute_type=None, threefry_partitionable=True, cur_abstract_mesh=AbstractMesh((), axis_types=()), xla_metadata=None))\n",
      "{'L': Array([[nan, nan, nan, nan, nan],\n",
      "       [nan, nan, nan, nan, nan],\n",
      "       [nan, nan, nan, nan, nan],\n",
      "       [nan, nan, nan, nan, nan],\n",
      "       [nan, nan, nan, nan, nan]], dtype=float32), 'mu': Array([nan, nan, nan, nan, nan], dtype=float32)}\n",
      "Step    0 | Loss: 0.036333\n",
      "Traced<float32[]>with<JVPTrace> with\n",
      "  primal = Array(nan, dtype=float32)\n",
      "  tangent = Traced<float32[]>with<JaxprTrace> with\n",
      "    pval = (ShapedArray(float32[]), None)\n",
      "    recipe = JaxprEqnRecipe(eqn_id=60658, in_tracers=(Traced<float32[]:JaxprTrace>, Traced<float32[]:JaxprTrace>), out_tracer_refs=[<weakref at 0x320507e20; to 'jax._src.interpreters.partial_eval.JaxprTracer' at 0x320507de0>], out_avals=[ShapedArray(float32[])], primitive=pjit, params={'jaxpr': { \u001b[34;1mlambda \u001b[39;22m; a\u001b[35m:f32[]\u001b[39m b\u001b[35m:f32[]\u001b[39m. \u001b[34;1mlet\u001b[39;22m c\u001b[35m:f32[]\u001b[39m = mul b a \u001b[34;1min \u001b[39;22m(c,) }, 'in_shardings': (UnspecifiedValue, UnspecifiedValue), 'in_layouts': (None, None), 'out_shardings': (UnspecifiedValue,), 'out_layouts': (None,), 'donated_invars': (False, False), 'ctx_mesh': None, 'name': 'multiply', 'keep_unused': False, 'inline': True, 'compiler_options_kvs': ()}, effects=set(), source_info=<jax._src.source_info_util.SourceInfo object at 0x3205132e0>, ctx=JaxprEqnContext(compute_type=None, threefry_partitionable=True, cur_abstract_mesh=AbstractMesh((), axis_types=()), xla_metadata=None))\n",
      "{'L': Array([[nan, nan, nan, nan, nan],\n",
      "       [nan, nan, nan, nan, nan],\n",
      "       [nan, nan, nan, nan, nan],\n",
      "       [nan, nan, nan, nan, nan],\n",
      "       [nan, nan, nan, nan, nan]], dtype=float32), 'mu': Array([nan, nan, nan, nan, nan], dtype=float32)}\n"
     ]
    },
    {
     "name": "stderr",
     "output_type": "stream",
     "text": [
      "Exception ignored in: <bound method IPythonKernel._clean_thread_parent_frames of <ipykernel.ipkernel.IPythonKernel object at 0x110a6da90>>\n",
      "Traceback (most recent call last):\n",
      "  File \"/Users/lucaraffo/CFM/cfm_env/lib/python3.13/site-packages/ipykernel/ipkernel.py\", line 775, in _clean_thread_parent_frames\n",
      "    def _clean_thread_parent_frames(\n",
      "KeyboardInterrupt: \n"
     ]
    },
    {
     "name": "stdout",
     "output_type": "stream",
     "text": [
      "Traced<float32[]>with<JVPTrace> with\n",
      "  primal = Array(nan, dtype=float32)\n",
      "  tangent = Traced<float32[]>with<JaxprTrace> with\n",
      "    pval = (ShapedArray(float32[]), None)\n",
      "    recipe = JaxprEqnRecipe(eqn_id=60658, in_tracers=(Traced<float32[]:JaxprTrace>, Traced<float32[]:JaxprTrace>), out_tracer_refs=[<weakref at 0x31ff5be20; to 'jax._src.interpreters.partial_eval.JaxprTracer' at 0x31ff5bde0>], out_avals=[ShapedArray(float32[])], primitive=pjit, params={'jaxpr': { \u001b[34;1mlambda \u001b[39;22m; a\u001b[35m:f32[]\u001b[39m b\u001b[35m:f32[]\u001b[39m. \u001b[34;1mlet\u001b[39;22m c\u001b[35m:f32[]\u001b[39m = mul b a \u001b[34;1min \u001b[39;22m(c,) }, 'in_shardings': (UnspecifiedValue, UnspecifiedValue), 'in_layouts': (None, None), 'out_shardings': (UnspecifiedValue,), 'out_layouts': (None,), 'donated_invars': (False, False), 'ctx_mesh': None, 'name': 'multiply', 'keep_unused': False, 'inline': True, 'compiler_options_kvs': ()}, effects=set(), source_info=<jax._src.source_info_util.SourceInfo object at 0x31ff522c0>, ctx=JaxprEqnContext(compute_type=None, threefry_partitionable=True, cur_abstract_mesh=AbstractMesh((), axis_types=()), xla_metadata=None))\n",
      "{'L': Array([[nan, nan, nan, nan, nan],\n",
      "       [nan, nan, nan, nan, nan],\n",
      "       [nan, nan, nan, nan, nan],\n",
      "       [nan, nan, nan, nan, nan],\n",
      "       [nan, nan, nan, nan, nan]], dtype=float32), 'mu': Array([nan, nan, nan, nan, nan], dtype=float32)}\n",
      "Step    2 | Loss: nan\n"
     ]
    }
   ],
   "source": [
    "mu, cov = dg.generate_gaussian_params(d=5, sigma_mu=0.1, sigma_cov=0.2, seed=0)\n",
    "samples = dg.generate_gaussian_data(mu, cov, n_samples=50, seed=1)\n",
    "\n",
    "params_hat = optimize_langevin_matching(samples, n_steps=1000, lr=1e-2)\n",
    "\n",
    "mu_hat = params_hat[\"mu\"]\n",
    "precision_hat = params_hat[\"L\"] @ params_hat[\"L\"].T\n",
    "cov_hat = jnp.linalg.inv(precision_hat)"
   ]
  },
  {
   "cell_type": "code",
   "execution_count": null,
   "id": "53e4550c",
   "metadata": {},
   "outputs": [],
   "source": [
    "print(mu, \"\\n\\n\", mu_hat, \"\\n\\n\\n\")\n",
    "print(cov, \"\\n\\n\", cov_hat, \"\\n\\n\\n\")"
   ]
  },
  {
   "cell_type": "code",
   "execution_count": null,
   "id": "e019853c",
   "metadata": {},
   "outputs": [],
   "source": []
  }
 ],
 "metadata": {
  "kernelspec": {
   "display_name": "cfm_env",
   "language": "python",
   "name": "python3"
  },
  "language_info": {
   "codemirror_mode": {
    "name": "ipython",
    "version": 3
   },
   "file_extension": ".py",
   "mimetype": "text/x-python",
   "name": "python",
   "nbconvert_exporter": "python",
   "pygments_lexer": "ipython3",
   "version": "3.13.0"
  }
 },
 "nbformat": 4,
 "nbformat_minor": 5
}

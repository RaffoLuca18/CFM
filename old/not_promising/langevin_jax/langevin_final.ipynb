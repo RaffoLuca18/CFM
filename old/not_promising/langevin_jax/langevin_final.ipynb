{
 "cells": [
  {
   "cell_type": "code",
   "execution_count": null,
   "id": "4a3e7ea2",
   "metadata": {},
   "outputs": [],
   "source": [
    "import sys\n",
    "import os\n",
    "sys.path.append(os.path.abspath('..'))\n",
    "\n",
    "import data_gen as dg\n",
    "import ising as isg\n",
    "\n",
    "import jax\n",
    "import jax.numpy as jnp\n",
    "import optax\n",
    "\n",
    "import matplotlib.pyplot as plt"
   ]
  },
  {
   "cell_type": "code",
   "execution_count": null,
   "id": "aef51eda",
   "metadata": {},
   "outputs": [],
   "source": [
    "def potential_grad(samples, mu, cov):\n",
    "\n",
    "    diff = samples - mu\n",
    "    grad = jnp.linalg.solve(cov, diff.T).T\n",
    "\n",
    "    return grad"
   ]
  },
  {
   "cell_type": "code",
   "execution_count": 3,
   "id": "cca564a7",
   "metadata": {},
   "outputs": [],
   "source": [
    "def evolve_langevin(samples, mu, cov, eps=1e-2, n_evolution=1, seed=0):\n",
    "    \n",
    "    key = jax.random.PRNGKey(seed)\n",
    "    evolved_samples = samples\n",
    "\n",
    "    for _ in range(n_evolution):\n",
    "        key, subkey = jax.random.split(key)\n",
    "        grad = potential_grad(evolved_samples, mu, cov)\n",
    "        noise = jax.random.normal(subkey, shape=evolved_samples.shape)\n",
    "        evolved_samples = evolved_samples - eps * grad + jnp.sqrt(2 * eps) * noise\n",
    "\n",
    "    return evolved_samples"
   ]
  },
  {
   "cell_type": "code",
   "execution_count": null,
   "id": "d7862d5c",
   "metadata": {},
   "outputs": [],
   "source": [
    "from ott.tools import sinkhorn_divergence\n",
    "\n",
    "def lm_loss(samples, mu, cov):"
   ]
  },
  {
   "cell_type": "code",
   "execution_count": null,
   "id": "a725f9ad",
   "metadata": {},
   "outputs": [],
   "source": [
    "def plot_distributions(samples, evolved, epoch):\n",
    "    d = samples.shape[1] if samples.ndim > 1 else 1\n",
    "\n",
    "    plt.figure(figsize=(6, 5))\n",
    "\n",
    "    if d == 1:\n",
    "        samples_np = np.array(samples).flatten()\n",
    "        evolved_np = np.array(evolved).flatten()\n",
    "        plt.hist(samples_np, bins=50, alpha=0.5, label='Original', density=True)\n",
    "        plt.hist(evolved_np, bins=50, alpha=0.5, label='Evolved', density=True)\n",
    "        plt.xlabel(\"x\")\n",
    "\n",
    "    elif d == 2:\n",
    "        samples_np = np.array(samples)\n",
    "        evolved_np = np.array(evolved)\n",
    "        plt.scatter(samples_np[:, 0], samples_np[:, 1], alpha=0.3, label='Original', s=10)\n",
    "        plt.scatter(evolved_np[:, 0], evolved_np[:, 1], alpha=0.3, label='Evolved', s=10)\n",
    "        plt.xlabel(\"x1\")\n",
    "        plt.ylabel(\"x2\")\n",
    "\n",
    "    else:\n",
    "        print(f\"Plot not implemented for dimension d = {d}\")\n",
    "        return\n",
    "\n",
    "    plt.legend()\n",
    "    plt.title(f\"epoch {epoch}\")\n",
    "    plt.grid(True)\n",
    "    plt.tight_layout()\n",
    "    plt.show()\n"
   ]
  },
  {
   "cell_type": "code",
   "execution_count": null,
   "id": "dd16095c",
   "metadata": {},
   "outputs": [],
   "source": [
    "def lm_optimize(samples, n_epochs=1000, lr=1e-2, seed=10, eps=1e-2, n_evolution=10, plot_every=500):\n",
    "    n, d = samples.shape\n",
    "\n",
    "    key = jax.random.PRNGKey(seed)\n",
    "    key_mu, key_A = jax.random.split(key)\n",
    "\n",
    "    mu = jax.random.normal(key_mu, shape=(d,))\n",
    "    A = jax.random.normal(key_A, shape=(d, d))\n",
    "\n",
    "    params = {\n",
    "        \"mu\": mu,\n",
    "        \"A\": A\n",
    "    }\n",
    "\n",
    "    optimizer = optax.adam(lr)\n",
    "    opt_state = optimizer.init(params)\n",
    "\n",
    "    def loss_fn(params, samples):\n",
    "        mu = params[\"mu\"]\n",
    "        A = params[\"A\"]\n",
    "        cov = A.T @ A  # ensure PSD\n",
    "        return lm_loss(samples, mu, cov)\n",
    "\n",
    "    for epoch in range(n_epochs):\n",
    "        loss_val, grads = jax.value_and_grad(loss_fn)(params, samples)\n",
    "        updates, opt_state = optimizer.update(grads, opt_state)\n",
    "        params = optax.apply_updates(params, updates)\n",
    "\n",
    "        if epoch % plot_every == 0 or epoch == n_epochs - 1:\n",
    "            mu_val = np.array(params[\"mu\"])\n",
    "            A_val = np.array(params[\"A\"])\n",
    "            cov_val = A_val.T @ A_val\n",
    "            print(f\"epoch {epoch} | loss = {loss_val:.6f} | mean = {mu_val} | cov =\\n{cov_val}\")\n",
    "\n",
    "            evolved = evolve_langevin(samples, params[\"mu\"], cov_val, eps=eps, n_evolution=n_evolution, seed=seed+1)\n",
    "            plot_distributions(samples, evolved, epoch)\n",
    "\n",
    "    final_mu = jnp.array(params[\"mu\"])\n",
    "    final_cov = params[\"A\"].T @ params[\"A\"]\n",
    "    return final_mu, final_cov"
   ]
  },
  {
   "cell_type": "code",
   "execution_count": null,
   "id": "b1076969",
   "metadata": {},
   "outputs": [],
   "source": [
    "d = 2\n",
    "mu_true, cov_true = dg.generate_gaussian_params(d, sigma_mu=10, sigma_cov=2, seed=0)\n",
    "samples = dg.generate_gaussian_data(mu_true, cov_true, n_samples=500, seed=1)\n",
    "print(mu_true, \"\\n\\n\", cov_true, \"\\n\\n\\n\\n\")\n",
    "\n",
    "mu_hat, cov_hat = lm_optimize(samples, n_epochs=15000, lr=1e-2)\n",
    "\n",
    "print(\"\\n--------- results: ---------\")\n",
    "print(\"mu true:     \", mu_true)\n",
    "print(\"mu hat:  \", mu_hat)\n",
    "print(\"cov true:\\n\", cov_true)\n",
    "print(\"cov hat:\\n\", cov_hat)"
   ]
  },
  {
   "cell_type": "code",
   "execution_count": null,
   "id": "a51ff3fc",
   "metadata": {},
   "outputs": [],
   "source": []
  },
  {
   "cell_type": "code",
   "execution_count": null,
   "id": "ef99c175",
   "metadata": {},
   "outputs": [],
   "source": []
  },
  {
   "cell_type": "code",
   "execution_count": null,
   "id": "6dba321f",
   "metadata": {},
   "outputs": [],
   "source": []
  }
 ],
 "metadata": {
  "kernelspec": {
   "display_name": "cfm_env",
   "language": "python",
   "name": "python3"
  },
  "language_info": {
   "codemirror_mode": {
    "name": "ipython",
    "version": 3
   },
   "file_extension": ".py",
   "mimetype": "text/x-python",
   "name": "python",
   "nbconvert_exporter": "python",
   "pygments_lexer": "ipython3",
   "version": "3.13.0"
  }
 },
 "nbformat": 4,
 "nbformat_minor": 5
}
